{
 "cells": [
  {
   "cell_type": "markdown",
   "metadata": {},
   "source": [
    "# Coin Flip: A Probabilistic Bit"
   ]
  },
  {
   "cell_type": "markdown",
   "metadata": {},
   "source": [
    "## Task 1: Simulating FairCoin in Python"
   ]
  },
  {
   "cell_type": "code",
   "execution_count": 4,
   "metadata": {},
   "outputs": [],
   "source": [
    "from random import randrange"
   ]
  },
  {
   "cell_type": "code",
   "execution_count": 7,
   "metadata": {},
   "outputs": [],
   "source": [
    "experiment_num = [100,1000,10000,100000]"
   ]
  },
  {
   "cell_type": "code",
   "execution_count": 15,
   "metadata": {},
   "outputs": [
    {
     "name": "stdout",
     "output_type": "stream",
     "text": [
      "Number of experiments = 100\n",
      "Number of heads = 45\n",
      "Number of tails = 55\n",
      "Ratio of heads to tails = 0.8181818181818182\n",
      "--------------------------------------------------\n",
      "Number of experiments = 1000\n",
      "Number of heads = 490\n",
      "Number of tails = 510\n",
      "Ratio of heads to tails = 0.9607843137254902\n",
      "--------------------------------------------------\n",
      "Number of experiments = 10000\n",
      "Number of heads = 4939\n",
      "Number of tails = 5061\n",
      "Ratio of heads to tails = 0.9758940920766647\n",
      "--------------------------------------------------\n",
      "Number of experiments = 100000\n",
      "Number of heads = 50160\n",
      "Number of tails = 49840\n",
      "Ratio of heads to tails = 1.0064205457463884\n",
      "--------------------------------------------------\n"
     ]
    }
   ],
   "source": [
    "for experiment in experiment_num:\n",
    "    heads = 0\n",
    "    tails = 0\n",
    "    for i in range(experiment):\n",
    "        toss = randrange(2)\n",
    "        if toss == 0:\n",
    "            heads = heads + 1\n",
    "        else:\n",
    "            tails = tails + 1\n",
    "    ratio = heads/tails\n",
    "    print('Number of experiments =', experiment)\n",
    "    print('Number of heads =', heads)\n",
    "    print('Number of tails =', tails)\n",
    "    print('Ratio of heads to tails =', ratio)\n",
    "    print('--------------------------------------------------')"
   ]
  },
  {
   "cell_type": "markdown",
   "metadata": {},
   "source": [
    "## Task 2: Simulating BiasedCoin in Python"
   ]
  },
  {
   "cell_type": "code",
   "execution_count": 16,
   "metadata": {},
   "outputs": [
    {
     "name": "stdout",
     "output_type": "stream",
     "text": [
      "Number of experiments = 100\n",
      "Number of heads = 56\n",
      "Number of tails = 44\n",
      "Ratio of heads to tails = 1.2727272727272727\n",
      "--------------------------------------------------\n",
      "Number of experiments = 1000\n",
      "Number of heads = 601\n",
      "Number of tails = 399\n",
      "Ratio of heads to tails = 1.506265664160401\n",
      "--------------------------------------------------\n",
      "Number of experiments = 10000\n",
      "Number of heads = 5993\n",
      "Number of tails = 4007\n",
      "Ratio of heads to tails = 1.4956326428749689\n",
      "--------------------------------------------------\n",
      "Number of experiments = 100000\n",
      "Number of heads = 60179\n",
      "Number of tails = 39821\n",
      "Ratio of heads to tails = 1.5112377891062505\n",
      "--------------------------------------------------\n"
     ]
    }
   ],
   "source": [
    "for experiment in experiment_num:\n",
    "    heads = 0\n",
    "    tails = 0\n",
    "    for i in range(experiment):\n",
    "        if randrange(100) < 60:\n",
    "            heads = heads + 1\n",
    "        else:\n",
    "            tails = tails + 1\n",
    "    ratio = heads/tails\n",
    "    print('Number of experiments =', experiment)\n",
    "    print('Number of heads =', heads)\n",
    "    print('Number of tails =', tails)\n",
    "    print('Ratio of heads to tails =', ratio)\n",
    "    print('--------------------------------------------------') "
   ]
  },
  {
   "cell_type": "markdown",
   "metadata": {},
   "source": [
    "## Task 3"
   ]
  },
  {
   "cell_type": "code",
   "execution_count": 17,
   "metadata": {},
   "outputs": [],
   "source": [
    "def biased_coin(N,B):\n",
    "    toss = randrange(N)\n",
    "    if toss < B:\n",
    "        return \"Head\"\n",
    "    else:\n",
    "        return \"Tail\""
   ]
  },
  {
   "cell_type": "markdown",
   "metadata": {},
   "source": [
    "## Task 4"
   ]
  },
  {
   "cell_type": "code",
   "execution_count": 37,
   "metadata": {},
   "outputs": [],
   "source": [
    "N = 101\n",
    "B = randrange(100)\n",
    "tosses = 500\n",
    "heads = 0"
   ]
  },
  {
   "cell_type": "code",
   "execution_count": 38,
   "metadata": {},
   "outputs": [],
   "source": [
    "for i in range(tosses):\n",
    "    if biased_coin(N,B) == 'Head':\n",
    "        heads = heads + 1   "
   ]
  },
  {
   "cell_type": "code",
   "execution_count": 39,
   "metadata": {},
   "outputs": [],
   "source": [
    "guess = heads/tosses\n",
    "real_bias = B/N\n",
    "error = abs(guess-real_bias)/real_bias*100"
   ]
  },
  {
   "cell_type": "code",
   "execution_count": 40,
   "metadata": {},
   "outputs": [
    {
     "name": "stdout",
     "output_type": "stream",
     "text": [
      "My guess is 0.824\n",
      "Real Bias = 0.7920792079207921\n",
      "Percentage error (%) = 4.029999999999989\n"
     ]
    }
   ],
   "source": [
    "print('My guess is', guess)\n",
    "print('Real Bias =', real_bias)\n",
    "print('Percentage error (%) =', error)"
   ]
  },
  {
   "cell_type": "markdown",
   "metadata": {},
   "source": [
    "# A Game with two biased coins"
   ]
  },
  {
   "cell_type": "markdown",
   "metadata": {},
   "source": [
    "## Task 2: Tracing ten biased coin tosses "
   ]
  },
  {
   "cell_type": "code",
   "execution_count": 41,
   "metadata": {},
   "outputs": [],
   "source": [
    "prob_head = 1\n",
    "prob_tail = 0\n",
    "tosses = 10"
   ]
  },
  {
   "cell_type": "code",
   "execution_count": 42,
   "metadata": {},
   "outputs": [],
   "source": [
    "for i in range(tosses):\n",
    "    new_prob_head = prob_head * 0.6 + prob_tail * 0.3\n",
    "    new_prob_tail = prob_head * 0.4 + prob_tail * 0.7\n",
    "    prob_head = new_prob_head\n",
    "    prob_tail = new_prob_tail"
   ]
  },
  {
   "cell_type": "code",
   "execution_count": 43,
   "metadata": {},
   "outputs": [
    {
     "name": "stdout",
     "output_type": "stream",
     "text": [
      "The probablity of getting a head after 10 coin tosses is 0.42857480279999977\n",
      "The probablity of getting a head after 10 coin tosses is 0.5714251971999997\n"
     ]
    }
   ],
   "source": [
    "print('The probablity of getting a head after', tosses, 'coin tosses is', prob_head)\n",
    "print('The probablity of getting a head after', tosses, 'coin tosses is', prob_tail)"
   ]
  },
  {
   "cell_type": "markdown",
   "metadata": {},
   "source": [
    "## Task 3"
   ]
  },
  {
   "cell_type": "code",
   "execution_count": 48,
   "metadata": {},
   "outputs": [],
   "source": [
    "tosses = [20,30,50]"
   ]
  },
  {
   "cell_type": "code",
   "execution_count": 49,
   "metadata": {},
   "outputs": [
    {
     "name": "stdout",
     "output_type": "stream",
     "text": [
      "The number of experiments = 20\n",
      "The probability of getting a head after 20 coin tosses is  0.42857142859135267\n",
      "The probability of getting a head after 20 coin tosses is  0.5714285714086464\n",
      "-------------------------------------------------------------------------------\n",
      "The number of experiments = 30\n",
      "The probability of getting a head after 30 coin tosses is  0.42857142857142816\n",
      "The probability of getting a head after 30 coin tosses is  0.5714285714285705\n",
      "-------------------------------------------------------------------------------\n",
      "The number of experiments = 50\n",
      "The probability of getting a head after 50 coin tosses is  0.42857142857142805\n",
      "The probability of getting a head after 50 coin tosses is  0.5714285714285706\n",
      "-------------------------------------------------------------------------------\n"
     ]
    }
   ],
   "source": [
    "for toss in tosses:\n",
    "    prob_head = 1\n",
    "    prob_tail = 0\n",
    "    print('The number of experiments =', toss)\n",
    "    \n",
    "    for i in range(toss):\n",
    "        new_prob_head = prob_head * 0.6 + prob_tail * 0.3\n",
    "        new_prob_tail = prob_head * 0.4 + prob_tail * 0.7\n",
    "        prob_head = new_prob_head\n",
    "        prob_tail = new_prob_tail\n",
    "    print('The probability of getting a head after', toss, 'coin tosses is ', prob_head)\n",
    "    print('The probability of getting a head after', toss, 'coin tosses is ', prob_tail)\n",
    "    print('-------------------------------------------------------------------------------')"
   ]
  },
  {
   "cell_type": "markdown",
   "metadata": {},
   "source": [
    "## Task 4"
   ]
  },
  {
   "cell_type": "code",
   "execution_count": 50,
   "metadata": {},
   "outputs": [],
   "source": [
    "tosses = [20,30,50]\n",
    "init_prob = [[1/2,1/2],[0,1]]"
   ]
  },
  {
   "cell_type": "code",
   "execution_count": 56,
   "metadata": {},
   "outputs": [
    {
     "name": "stdout",
     "output_type": "stream",
     "text": [
      "Probability of heads = 0.5\n",
      "Probability of tails = 0.5\n",
      "##########################\n",
      " \n",
      "Number of experiments = 20\n",
      "The probabilit of getting a head after  20 coin tosses is 0.42857142857391883\n",
      "The probabilit of getting a head after  20 coin tosses is 0.5714285714260805\n",
      "----------------------------------------------------------------------------\n",
      "Number of experiments = 30\n",
      "The probabilit of getting a head after  30 coin tosses is 0.42857142857142827\n",
      "The probabilit of getting a head after  30 coin tosses is 0.571428571428571\n",
      "----------------------------------------------------------------------------\n",
      "Number of experiments = 50\n",
      "The probabilit of getting a head after  50 coin tosses is 0.42857142857142827\n",
      "The probabilit of getting a head after  50 coin tosses is 0.571428571428571\n",
      "----------------------------------------------------------------------------\n",
      "                                                                                 \n",
      " \n",
      "Probability of heads = 0\n",
      "Probability of tails = 1\n",
      "##########################\n",
      " \n",
      "Number of experiments = 20\n",
      "The probabilit of getting a head after  20 coin tosses is 0.4285714285564849\n",
      "The probabilit of getting a head after  20 coin tosses is 0.5714285714435143\n",
      "----------------------------------------------------------------------------\n",
      "Number of experiments = 30\n",
      "The probabilit of getting a head after  30 coin tosses is 0.42857142857142794\n",
      "The probabilit of getting a head after  30 coin tosses is 0.5714285714285708\n",
      "----------------------------------------------------------------------------\n",
      "Number of experiments = 50\n",
      "The probabilit of getting a head after  50 coin tosses is 0.42857142857142794\n",
      "The probabilit of getting a head after  50 coin tosses is 0.5714285714285706\n",
      "----------------------------------------------------------------------------\n",
      "                                                                                 \n",
      " \n"
     ]
    }
   ],
   "source": [
    "for prob_vec in init_prob:\n",
    "    print('Probability of heads =', prob_vec[0])\n",
    "    print('Probability of tails =', prob_vec[1])\n",
    "    print('##########################')\n",
    "    print(' ')\n",
    "    \n",
    "    for toss in tosses:\n",
    "        [prob_head , prob_tail] = prob_vec\n",
    "        print('Number of experiments =', toss)\n",
    "        \n",
    "        for i in range(toss):\n",
    "            new_prob_head = prob_head * 0.6 + prob_tail * 0.3\n",
    "            new_prob_tail = prob_head * 0.4 + prob_tail * 0.7\n",
    "            prob_head = new_prob_head\n",
    "            prob_tail = new_prob_tail\n",
    "        print('The probabilit of getting a head after ', toss, 'coin tosses is', prob_head)\n",
    "        print('The probabilit of getting a head after ', toss, 'coin tosses is', prob_tail)\n",
    "        print('----------------------------------------------------------------------------')\n",
    "    print('                                                                                 ')\n",
    "    print(' ')"
   ]
  },
  {
   "cell_type": "markdown",
   "metadata": {},
   "source": [
    "# Probabilistic States"
   ]
  },
  {
   "cell_type": "code",
   "execution_count": null,
   "metadata": {},
   "outputs": [],
   "source": []
  }
 ],
 "metadata": {
  "kernelspec": {
   "display_name": "Python 3",
   "language": "python",
   "name": "python3"
  },
  "language_info": {
   "codemirror_mode": {
    "name": "ipython",
    "version": 3
   },
   "file_extension": ".py",
   "mimetype": "text/x-python",
   "name": "python",
   "nbconvert_exporter": "python",
   "pygments_lexer": "ipython3",
   "version": "3.8.3"
  }
 },
 "nbformat": 4,
 "nbformat_minor": 4
}
