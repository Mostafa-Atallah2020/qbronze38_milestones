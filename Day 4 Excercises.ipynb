{
 "cells": [
  {
   "cell_type": "markdown",
   "metadata": {},
   "source": [
    "# Two Qubits"
   ]
  },
  {
   "cell_type": "markdown",
   "metadata": {},
   "source": [
    "## Task 1 (vector representation)"
   ]
  },
  {
   "cell_type": "markdown",
   "metadata": {},
   "source": [
    "$$\n",
    "|00\\rangle = |0\\rangle \\otimes |0\\rangle = \n",
    "\\begin{pmatrix}\n",
    "1 \\\\\n",
    "0\n",
    "\\end{pmatrix}\n",
    "\\otimes\n",
    "\\begin{pmatrix}\n",
    "1 \\\\\n",
    "0\n",
    "\\end{pmatrix}\n",
    "=\n",
    "\\begin{pmatrix}\n",
    "1 \\\\\n",
    "0 \\\\\n",
    "0 \\\\\n",
    "0\n",
    "\\end{pmatrix}\n",
    "$$"
   ]
  },
  {
   "cell_type": "markdown",
   "metadata": {},
   "source": [
    "$$\n",
    "|01\\rangle = |0\\rangle \\otimes |1\\rangle = \n",
    "\\begin{pmatrix}\n",
    "1 \\\\\n",
    "0\n",
    "\\end{pmatrix}\n",
    "\\otimes\n",
    "\\begin{pmatrix}\n",
    "0 \\\\\n",
    "1\n",
    "\\end{pmatrix}\n",
    "=\n",
    "\\begin{pmatrix}\n",
    "0 \\\\\n",
    "1 \\\\\n",
    "0 \\\\\n",
    "0\n",
    "\\end{pmatrix}\n",
    "$$"
   ]
  },
  {
   "cell_type": "markdown",
   "metadata": {},
   "source": [
    "$$\n",
    "|10\\rangle = |1\\rangle \\otimes |0\\rangle = \n",
    "\\begin{pmatrix}\n",
    "0 \\\\\n",
    "1\n",
    "\\end{pmatrix}\n",
    "\\otimes\n",
    "\\begin{pmatrix}\n",
    "1 \\\\\n",
    "0\n",
    "\\end{pmatrix}\n",
    "=\n",
    "\\begin{pmatrix}\n",
    "0 \\\\\n",
    "0 \\\\\n",
    "1 \\\\\n",
    "0\n",
    "\\end{pmatrix}\n",
    "$$"
   ]
  },
  {
   "cell_type": "markdown",
   "metadata": {},
   "source": [
    "$$\n",
    "|11\\rangle = |1\\rangle \\otimes |1\\rangle = \n",
    "\\begin{pmatrix}\n",
    "0 \\\\\n",
    "1\n",
    "\\end{pmatrix}\n",
    "\\otimes\n",
    "\\begin{pmatrix}\n",
    "0 \\\\\n",
    "1\n",
    "\\end{pmatrix}\n",
    "=\n",
    "\\begin{pmatrix}\n",
    "0 \\\\\n",
    "0 \\\\\n",
    "0 \\\\\n",
    "1\n",
    "\\end{pmatrix}\n",
    "$$"
   ]
  },
  {
   "cell_type": "markdown",
   "metadata": {},
   "source": [
    "## Task 2 (generalization)"
   ]
  },
  {
   "cell_type": "markdown",
   "metadata": {},
   "source": [
    "The size of the vector representing $k$ qubits = $2^k$"
   ]
  },
  {
   "cell_type": "markdown",
   "metadata": {},
   "source": [
    "## Task 3"
   ]
  },
  {
   "cell_type": "code",
   "execution_count": 1,
   "metadata": {},
   "outputs": [
    {
     "data": {
      "image/png": "[encoded data removed]",
      "text/plain": [
       "<Figure size 238.392x144.48 with 1 Axes>"
      ]
     },
     "execution_count": 1,
     "metadata": {},
     "output_type": "execute_result"
    }
   ],
   "source": [
    "from qiskit import QuantumCircuit\n",
    "qc = QuantumCircuit(2)\n",
    "qc.h(1)\n",
    "qc.draw(output='mpl',reverse_bits=True)"
   ]
  },
  {
   "cell_type": "code",
   "execution_count": 2,
   "metadata": {},
   "outputs": [],
   "source": [
    "from qiskit import execute, Aer"
   ]
  },
  {
   "cell_type": "code",
   "execution_count": 3,
   "metadata": {},
   "outputs": [
    {
     "name": "stdout",
     "output_type": "stream",
     "text": [
      " 0.707 0.0 0.707 0.0 \n",
      " 0.0 0.707 0.0 0.707 \n",
      " 0.707 0.0 -0.707 0.0 \n",
      " 0.0 0.707 0.0 -0.707 \n"
     ]
    }
   ],
   "source": [
    "backend = Aer.get_backend('unitary_simulator')\n",
    "job = execute(qc, backend, shots=1, optimization_level=0)\n",
    "unitary = job.result().get_unitary(qc, decimals=3)\n",
    "for row in unitary:\n",
    "    column = ' '\n",
    "    for entry in row:\n",
    "        column = column + str(entry.real) + ' '\n",
    "    print(column)"
   ]
  },
  {
   "cell_type": "markdown",
   "metadata": {},
   "source": [
    "which is equivalent to"
   ]
  },
  {
   "cell_type": "markdown",
   "metadata": {},
   "source": [
    "$$\n",
    "H \\otimes I = \n",
    "\\begin{pmatrix}\n",
    "\\frac{1}{\\sqrt{2}} & \\frac{1}{\\sqrt{2}} \\\\\n",
    "\\frac{1}{\\sqrt{2}} & -\\frac{1}{\\sqrt{2}}\n",
    "\\end{pmatrix}\n",
    "\\otimes\n",
    "\\begin{pmatrix}\n",
    "1 & 0 \\\\\n",
    "0 & 1\n",
    "\\end{pmatrix}\n",
    "=\n",
    "\\begin{pmatrix}\n",
    "\\frac{1}{\\sqrt{2}} & 0 & \\frac{1}{\\sqrt{2}} & 0 \\\\\n",
    "0 & \\frac{1}{\\sqrt{2}} & 0 & \\frac{1}{\\sqrt{2}} \\\\\n",
    "\\frac{1}{\\sqrt{2}} & 0 & -\\frac{1}{\\sqrt{2}} & 0 \\\\\n",
    "0 & \\frac{1}{\\sqrt{2}} & 0 & -\\frac{1}{\\sqrt{2}} \\\\\n",
    "\\end{pmatrix}\n",
    "$$"
   ]
  },
  {
   "cell_type": "markdown",
   "metadata": {},
   "source": [
    "## Task 5"
   ]
  },
  {
   "cell_type": "code",
   "execution_count": 4,
   "metadata": {},
   "outputs": [],
   "source": [
    "# import all necessary objects and methods for quantum circuits\n",
    "from qiskit import QuantumRegister, ClassicalRegister, QuantumCircuit, execute, Aer\n",
    "# import randrange for random choices\n",
    "from random import randrange"
   ]
  },
  {
   "cell_type": "code",
   "execution_count": 5,
   "metadata": {},
   "outputs": [],
   "source": [
    "n = 5\n",
    "m = 4\n",
    "qubit_state = []"
   ]
  },
  {
   "cell_type": "code",
   "execution_count": 6,
   "metadata": {},
   "outputs": [],
   "source": [
    "qreg = QuantumRegister(n)\n",
    "creg = ClassicalRegister(n)\n",
    "qc = QuantumCircuit(qreg, creg)"
   ]
  },
  {
   "cell_type": "code",
   "execution_count": 7,
   "metadata": {},
   "outputs": [],
   "source": [
    "for i in range(n):\n",
    "    qc.x(qreg[i])\n",
    "    qubit_state.append(1)"
   ]
  },
  {
   "cell_type": "code",
   "execution_count": 8,
   "metadata": {},
   "outputs": [
    {
     "name": "stdout",
     "output_type": "stream",
     "text": [
      "The index for the control qubit = 1\n",
      "The index for the target qubit = 0\n",
      "------------------------------------\n",
      "The index for the control qubit = 2\n",
      "The index for the target qubit = 3\n",
      "------------------------------------\n",
      "The index for the control qubit = 0\n",
      "The index for the target qubit = 4\n",
      "------------------------------------\n",
      "The index for the control qubit = 4\n",
      "The index for the target qubit = 2\n",
      "------------------------------------\n"
     ]
    }
   ],
   "source": [
    "for i in range(m):\n",
    "    control = randrange(n)\n",
    "    target = randrange(n)\n",
    "    \n",
    "    while control == target:\n",
    "        target = randrange(n)\n",
    "    \n",
    "    print('The index for the control qubit =',control)\n",
    "    print('The index for the target qubit =', target)\n",
    "    print('------------------------------------')\n",
    "    qc.cx(qreg[control],qreg[target])\n",
    "    \n",
    "    if qubit_state[control] == 1:\n",
    "        qubit_state[target] = 1 - qubit_state[target]"
   ]
  },
  {
   "cell_type": "code",
   "execution_count": 9,
   "metadata": {},
   "outputs": [
    {
     "data": {
      "image/png": "[encoded data removed]",
      "text/plain": [
       "<Figure size 791.028x385.28 with 1 Axes>"
      ]
     },
     "execution_count": 9,
     "metadata": {},
     "output_type": "execute_result"
    }
   ],
   "source": [
    "qc.barrier()\n",
    "qc.measure(qreg, creg)\n",
    "qc.draw('mpl', reverse_bits=True)"
   ]
  },
  {
   "cell_type": "code",
   "execution_count": 10,
   "metadata": {},
   "outputs": [
    {
     "name": "stdout",
     "output_type": "stream",
     "text": [
      "The result of measurement is {'10010': 100}\n"
     ]
    }
   ],
   "source": [
    "backend = Aer.get_backend('qasm_simulator')\n",
    "job = execute(qc, backend, shots=100)\n",
    "counts = job.result().get_counts(qc)\n",
    "print('The result of measurement is',counts)"
   ]
  },
  {
   "cell_type": "markdown",
   "metadata": {},
   "source": [
    "## Task 6"
   ]
  },
  {
   "cell_type": "code",
   "execution_count": 11,
   "metadata": {},
   "outputs": [],
   "source": [
    "qubits = ['00', '01', '10', '11']"
   ]
  },
  {
   "cell_type": "code",
   "execution_count": 12,
   "metadata": {},
   "outputs": [
    {
     "data": {
      "image/png": "[encoded data removed]",
      "text/plain": [
       "<Figure size 490.028x204.68 with 1 Axes>"
      ]
     },
     "metadata": {},
     "output_type": "display_data"
    },
    {
     "name": "stdout",
     "output_type": "stream",
     "text": [
      "00 is mapped to {'00': 100}\n",
      "------------------------------------------------------------------\n"
     ]
    },
    {
     "data": {
      "image/png": "[encoded data removed]",
      "text/plain": [
       "<Figure size 550.228x204.68 with 1 Axes>"
      ]
     },
     "metadata": {},
     "output_type": "display_data"
    },
    {
     "name": "stdout",
     "output_type": "stream",
     "text": [
      "01 is mapped to {'11': 100}\n",
      "------------------------------------------------------------------\n"
     ]
    },
    {
     "data": {
      "image/png": "[encoded data removed]",
      "text/plain": [
       "<Figure size 550.228x204.68 with 1 Axes>"
      ]
     },
     "metadata": {},
     "output_type": "display_data"
    },
    {
     "name": "stdout",
     "output_type": "stream",
     "text": [
      "10 is mapped to {'10': 100}\n",
      "------------------------------------------------------------------\n"
     ]
    },
    {
     "data": {
      "image/png": "[encoded data removed]",
      "text/plain": [
       "<Figure size 550.228x204.68 with 1 Axes>"
      ]
     },
     "metadata": {},
     "output_type": "display_data"
    },
    {
     "name": "stdout",
     "output_type": "stream",
     "text": [
      "11 is mapped to {'01': 100}\n",
      "------------------------------------------------------------------\n"
     ]
    }
   ],
   "source": [
    "for qubit in qubits:\n",
    "    qreg = QuantumRegister(2)\n",
    "    creg = ClassicalRegister(2)\n",
    "    qc = QuantumCircuit(qreg,creg)\n",
    "\n",
    "    \n",
    "    if qubit[0] == '1':\n",
    "        qc.x(qreg[1])\n",
    "    if qubit[1] == '1':\n",
    "        qc.x(qreg[0])\n",
    "    \n",
    "    qc.h(qreg[0])\n",
    "    qc.h(qreg[1])\n",
    "    qc.cx(qreg[1],qreg[0])\n",
    "    qc.h(qreg[0])\n",
    "    qc.h(qreg[1])\n",
    "    \n",
    "    qc.measure(qreg,creg)\n",
    "    \n",
    "    display(qc.draw('mpl', reverse_bits=True))\n",
    "    \n",
    "    backend = Aer.get_backend('qasm_simulator')\n",
    "    job = execute(qc, backend, shots=100)\n",
    "    counts = job.result().get_counts(qc)\n",
    "    print(qubit, 'is mapped to', counts)\n",
    "    print('------------------------------------------------------------------')"
   ]
  },
  {
   "cell_type": "markdown",
   "metadata": {},
   "source": [
    "## Task 7"
   ]
  },
  {
   "cell_type": "code",
   "execution_count": 13,
   "metadata": {},
   "outputs": [
    {
     "data": {
      "image/png": "[encoded data removed]",
      "text/plain": [
       "<Figure size 550.228x204.68 with 1 Axes>"
      ]
     },
     "metadata": {},
     "output_type": "display_data"
    },
    {
     "name": "stdout",
     "output_type": "stream",
     "text": [
      "00 is mapped into {'00': 100}\n",
      "-------------------------------------------------------------------\n"
     ]
    },
    {
     "data": {
      "image/png": "[encoded data removed]",
      "text/plain": [
       "<Figure size 610.428x204.68 with 1 Axes>"
      ]
     },
     "metadata": {},
     "output_type": "display_data"
    },
    {
     "name": "stdout",
     "output_type": "stream",
     "text": [
      "01 is mapped into {'10': 100}\n",
      "-------------------------------------------------------------------\n"
     ]
    },
    {
     "data": {
      "image/png": "[encoded data removed]",
      "text/plain": [
       "<Figure size 610.428x204.68 with 1 Axes>"
      ]
     },
     "metadata": {},
     "output_type": "display_data"
    },
    {
     "name": "stdout",
     "output_type": "stream",
     "text": [
      "10 is mapped into {'01': 100}\n",
      "-------------------------------------------------------------------\n"
     ]
    },
    {
     "data": {
      "image/png": "[encoded data removed]",
      "text/plain": [
       "<Figure size 610.428x204.68 with 1 Axes>"
      ]
     },
     "metadata": {},
     "output_type": "display_data"
    },
    {
     "name": "stdout",
     "output_type": "stream",
     "text": [
      "11 is mapped into {'11': 100}\n",
      "-------------------------------------------------------------------\n"
     ]
    }
   ],
   "source": [
    "for qubit in qubits:\n",
    "    qc = QuantumCircuit(qreg,creg)\n",
    "    \n",
    "    if qubit[0] == '1':\n",
    "        qc.x(qreg[1])\n",
    "    if qubit[1] == '1':\n",
    "        qc.x(qreg[0])\n",
    "    qc.cx(qreg[1], qreg[0])\n",
    "    qc.cx(qreg[0], qreg[1])\n",
    "    qc.cx(qreg[1], qreg[0])\n",
    "    qc.barrier()\n",
    "    qc.measure(qreg, creg)\n",
    "    display(qc.draw('mpl', reverse_bits=True))\n",
    "    \n",
    "    job = execute(qc, backend, shots=100)\n",
    "    counts = job.result().get_counts(qc)\n",
    "    print(qubit,'is mapped into', counts)\n",
    "    print('-------------------------------------------------------------------')"
   ]
  },
  {
   "cell_type": "markdown",
   "metadata": {},
   "source": [
    "# Phase Kickback"
   ]
  },
  {
   "cell_type": "code",
   "execution_count": 14,
   "metadata": {},
   "outputs": [],
   "source": [
    "q = QuantumRegister(2, 'q')\n",
    "c = ClassicalRegister(2, 'c')\n",
    "qc = QuantumCircuit(q,c)"
   ]
  },
  {
   "cell_type": "code",
   "execution_count": 15,
   "metadata": {},
   "outputs": [
    {
     "data": {
      "image/png": "[encoded data removed]",
      "text/plain": [
       "<Figure size 599.592x204.68 with 1 Axes>"
      ]
     },
     "execution_count": 15,
     "metadata": {},
     "output_type": "execute_result"
    }
   ],
   "source": [
    "qc.x(q[0])\n",
    "qc.barrier()\n",
    "qc.h(q[0])\n",
    "qc.h(q[1])\n",
    "qc.cx(q[1],q[0])\n",
    "qc.h(q[0])\n",
    "qc.h(q[1])\n",
    "qc.measure(q,c)\n",
    "qc.draw('mpl', reverse_bits=True)"
   ]
  },
  {
   "cell_type": "code",
   "execution_count": 16,
   "metadata": {},
   "outputs": [
    {
     "name": "stdout",
     "output_type": "stream",
     "text": [
      "{'11': 100}\n"
     ]
    }
   ],
   "source": [
    "backend = Aer.get_backend('qasm_simulator')\n",
    "job = execute(qc, backend, shots=100)\n",
    "counts = job.result().get_counts(qc)\n",
    "print(counts)"
   ]
  },
  {
   "cell_type": "markdown",
   "metadata": {},
   "source": [
    "## Task 2"
   ]
  },
  {
   "cell_type": "code",
   "execution_count": 17,
   "metadata": {},
   "outputs": [],
   "source": [
    "q = QuantumRegister(7, 'q')\n",
    "c = ClassicalRegister(7, 'c')\n",
    "qc = QuantumCircuit(q,c)"
   ]
  },
  {
   "cell_type": "code",
   "execution_count": 18,
   "metadata": {},
   "outputs": [
    {
     "data": {
      "image/png": "[encoded data removed]",
      "text/plain": [
       "<Figure size 1141.39x505.68 with 1 Axes>"
      ]
     },
     "execution_count": 18,
     "metadata": {},
     "output_type": "execute_result"
    }
   ],
   "source": [
    "qc.x(q[0])\n",
    "qc.barrier()\n",
    "\n",
    "for i in range(7):\n",
    "    qc.h(q[i])\n",
    "\n",
    "qc.barrier()\n",
    "qc.cx(q[1],q[0])\n",
    "qc.cx(q[4],q[0])\n",
    "qc.cx(q[5],q[0])\n",
    "\n",
    "qc.barrier()\n",
    "\n",
    "for i in range(7):\n",
    "    qc.h(q[i])\n",
    "    \n",
    "qc.measure(q,c)\n",
    "qc.draw('mpl', reverse_bits=True)"
   ]
  },
  {
   "cell_type": "code",
   "execution_count": 19,
   "metadata": {},
   "outputs": [
    {
     "name": "stdout",
     "output_type": "stream",
     "text": [
      "{'0110011': 100}\n"
     ]
    }
   ],
   "source": [
    "job = execute(qc, backend, shots=100)\n",
    "counts = job.result().get_counts(qc)\n",
    "print(counts)"
   ]
  },
  {
   "cell_type": "markdown",
   "metadata": {},
   "source": [
    "# Entanglement and Superdense Coding"
   ]
  },
  {
   "cell_type": "markdown",
   "metadata": {},
   "source": [
    "## Task 1"
   ]
  },
  {
   "cell_type": "code",
   "execution_count": 20,
   "metadata": {},
   "outputs": [],
   "source": [
    "all_pairs = ['00','01','10','11']"
   ]
  },
  {
   "cell_type": "code",
   "execution_count": 21,
   "metadata": {},
   "outputs": [],
   "source": [
    "q = QuantumRegister(2, 'q')\n",
    "c = ClassicalRegister(2, 'c')"
   ]
  },
  {
   "cell_type": "code",
   "execution_count": 22,
   "metadata": {},
   "outputs": [
    {
     "data": {
      "image/png": "[encoded data removed]",
      "text/plain": [
       "<Figure size 659.792x204.68 with 1 Axes>"
      ]
     },
     "metadata": {},
     "output_type": "display_data"
    },
    {
     "name": "stdout",
     "output_type": "stream",
     "text": [
      "00 --> {'00': 100}\n",
      "------------------------------------------------------------------\n"
     ]
    },
    {
     "data": {
      "image/png": "[encoded data removed]",
      "text/plain": [
       "<Figure size 719.992x204.68 with 1 Axes>"
      ]
     },
     "metadata": {},
     "output_type": "display_data"
    },
    {
     "name": "stdout",
     "output_type": "stream",
     "text": [
      "01 --> {'01': 100}\n",
      "------------------------------------------------------------------\n"
     ]
    },
    {
     "data": {
      "image/png": "[encoded data removed]",
      "text/plain": [
       "<Figure size 719.992x204.68 with 1 Axes>"
      ]
     },
     "metadata": {},
     "output_type": "display_data"
    },
    {
     "name": "stdout",
     "output_type": "stream",
     "text": [
      "10 --> {'10': 100}\n",
      "------------------------------------------------------------------\n"
     ]
    },
    {
     "data": {
      "image/png": "[encoded data removed]",
      "text/plain": [
       "<Figure size 780.192x204.68 with 1 Axes>"
      ]
     },
     "metadata": {},
     "output_type": "display_data"
    },
    {
     "name": "stdout",
     "output_type": "stream",
     "text": [
      "11 --> {'11': 100}\n",
      "------------------------------------------------------------------\n"
     ]
    }
   ],
   "source": [
    "for pair in all_pairs:\n",
    "    qc = QuantumCircuit(q,c)\n",
    "    qc.h(q[1])\n",
    "    qc.cx(q[1],q[0])\n",
    "    \n",
    "    if pair[0] == '1':\n",
    "        qc.z(q[1])\n",
    "        \n",
    "    if pair[1] == '1':\n",
    "        qc.x(q[1])\n",
    "    \n",
    "    qc.barrier()\n",
    "    \n",
    "    qc.cx(q[1], q[0])\n",
    "    qc.h(q[1])\n",
    "    \n",
    "    qc.barrier()\n",
    "    qc.measure(q,c)\n",
    "    \n",
    "    display(qc.draw('mpl', reverse_bits=True))\n",
    "    \n",
    "    backend = Aer.get_backend('qasm_simulator')\n",
    "    job = execute(qc, backend, shots=100)\n",
    "    counts = job.result().get_counts(qc)\n",
    "    print(pair, '-->', counts)\n",
    "    print('------------------------------------------------------------------')"
   ]
  },
  {
   "cell_type": "markdown",
   "metadata": {},
   "source": [
    "## Task 2"
   ]
  },
  {
   "cell_type": "markdown",
   "metadata": {},
   "source": [
    "### Pair 00 "
   ]
  },
  {
   "cell_type": "markdown",
   "metadata": {},
   "source": [
    "$$\n",
    "|\\psi_{in} \\rangle = |00\\rangle\n",
    "$$"
   ]
  },
  {
   "cell_type": "markdown",
   "metadata": {},
   "source": [
    "$$\n",
    "|\\psi_1\\rangle = (H \\otimes I) |\\psi_{in} \\rangle = H |0\\rangle \\otimes |0\\rangle = \\left ( \\frac{1}{\\sqrt{2}} |0\\rangle + \\frac{1}{\\sqrt{2}} |1\\rangle \\right) \\otimes |0\\rangle \\\\ = \\frac{1}{\\sqrt{2}} |00\\rangle \n",
    "+ \\frac{1}{\\sqrt{2}} |10\\rangle\n",
    "$$"
   ]
  },
  {
   "cell_type": "markdown",
   "metadata": {},
   "source": [
    "$$\n",
    "|\\psi_2\\rangle = CX_{0,1} |\\psi_1\\rangle = \\frac{1}{\\sqrt{2}} CX_{0,1} |00\\rangle + \\frac{1}{\\sqrt{2}} CX_{0,1} |10\\rangle = \\frac{1}{\\sqrt{2}} |00\\rangle + \\frac{1}{\\sqrt{2}} |11\\rangle\n",
    "$$"
   ]
  },
  {
   "cell_type": "markdown",
   "metadata": {},
   "source": [
    "$$\n",
    "|\\psi_3\\rangle = CX_{0,1} |\\psi_2\\rangle = \\frac{1}{\\sqrt{2}} CX_{0,1} |00\\rangle + \\frac{1}{\\sqrt{2}} CX_{0,1} |11\\rangle = \\frac{1}{\\sqrt{2}} |00\\rangle + \\frac{1}{\\sqrt{2}} |10\\rangle\n",
    "$$"
   ]
  },
  {
   "cell_type": "markdown",
   "metadata": {},
   "source": [
    "$$\n",
    "|\\psi_{out}\\rangle = (H \\otimes I) |\\psi_3\\rangle = \\frac{1}{\\sqrt{2}} H |0\\rangle \\otimes |0\\rangle + \\frac{1}{\\sqrt{2}} H |1\\rangle \\otimes |0\\rangle = \\frac{1}{\\sqrt{2}} \\left ( \\frac{1}{\\sqrt{2}} |0\\rangle + \\frac{1}{\\sqrt{2}} |1\\rangle \\right) \\otimes |0\\rangle + \\frac{1}{\\sqrt{2}} \\left ( \\frac{1}{\\sqrt{2}} |0\\rangle - \\frac{1}{\\sqrt{2}} |1\\rangle \\right) \\otimes |0\\rangle \\\\ = \n",
    "\\frac{1}{2} |00\\rangle + \\frac{1}{2} |10\\rangle + \\frac{1}{2} |00\\rangle - \\frac{1}{2} |10\\rangle = |00\\rangle\n",
    "$$"
   ]
  },
  {
   "cell_type": "markdown",
   "metadata": {},
   "source": [
    "### Pair 01"
   ]
  },
  {
   "cell_type": "markdown",
   "metadata": {},
   "source": [
    "$$\n",
    "|\\psi_{in} \\rangle = |\\psi_{0} \\rangle = |00\\rangle\n",
    "$$"
   ]
  },
  {
   "cell_type": "markdown",
   "metadata": {},
   "source": [
    "$$\n",
    "|\\psi_1\\rangle = (H \\otimes I) |\\psi_{in} \\rangle = H |0\\rangle \\otimes |0\\rangle = \\left ( \\frac{1}{\\sqrt{2}} |0\\rangle + \\frac{1}{\\sqrt{2}} |1\\rangle \\right) \\otimes |0\\rangle \\\\ = \\frac{1}{\\sqrt{2}} |00\\rangle \n",
    "+ \\frac{1}{\\sqrt{2}} |10\\rangle\n",
    "$$"
   ]
  },
  {
   "cell_type": "markdown",
   "metadata": {},
   "source": [
    "$$\n",
    "|\\psi_2\\rangle = CX_{0,1} |\\psi_1\\rangle = \\frac{1}{\\sqrt{2}} CX_{0,1} |00\\rangle + \\frac{1}{\\sqrt{2}} CX_{0,1} |10\\rangle = \\frac{1}{\\sqrt{2}} |00\\rangle + \\frac{1}{\\sqrt{2}} |11\\rangle\n",
    "$$"
   ]
  },
  {
   "cell_type": "markdown",
   "metadata": {},
   "source": [
    "$$\n",
    "|\\psi_3\\rangle = (X \\otimes I) |\\psi_2\\rangle = \\frac{1}{\\sqrt{2}} X |0\\rangle \\otimes |0\\rangle + \\frac{1}{\\sqrt{2}} X |1\\rangle \\otimes |1\\rangle \\\\ = \\frac{1}{\\sqrt{2}} |1\\rangle \\otimes |0\\rangle + \\frac{1}{\\sqrt{2}} |0\\rangle \\otimes |1\\rangle = \\frac{1}{\\sqrt{2}} |10\\rangle + \\frac{1}{\\sqrt{2}} |01\\rangle \n",
    "$$"
   ]
  },
  {
   "cell_type": "markdown",
   "metadata": {},
   "source": [
    "$$\n",
    "|\\psi_4\\rangle = CX_{0,1} |\\psi_3\\rangle = \\frac{1}{\\sqrt{2}} CX_{0,1} |10\\rangle + \\frac{1}{\\sqrt{2}} CX_{0,1} |01\\rangle = \\frac{1}{\\sqrt{2}} |01\\rangle + \\frac{1}{\\sqrt{2}} |11\\rangle \n",
    "$$"
   ]
  },
  {
   "cell_type": "markdown",
   "metadata": {},
   "source": [
    "$$\n",
    "|\\psi_{out} \\rangle = |\\psi_5\\rangle = (H \\otimes I) |\\psi_4\\rangle = \\frac{1}{\\sqrt{2}} H |0\\rangle \\otimes |1\\rangle + \\frac{1}{\\sqrt{2}} H |1\\rangle \\otimes |1\\rangle \\\\ = \\frac{1}{\\sqrt{2}} \\left ( \\frac{1}{\\sqrt{2}} |0\\rangle + \\frac{1}{\\sqrt{2}} |1\\rangle \\right) \\otimes |1\\rangle + \\frac{1}{\\sqrt{2}} \\left ( \\frac{1}{\\sqrt{2}} |0\\rangle - \\frac{1}{\\sqrt{2}} |1\\rangle \\right) \\otimes |1\\rangle \\\\ = \\frac{1}{2} |01\\rangle + \\frac{1}{2} |11\\rangle + \\frac{1}{2} |01\\rangle - \\frac{1}{2} |11\\rangle = |01\\rangle\n",
    "$$"
   ]
  },
  {
   "cell_type": "markdown",
   "metadata": {},
   "source": [
    "### Pair 10"
   ]
  },
  {
   "cell_type": "markdown",
   "metadata": {},
   "source": [
    "$$\n",
    "|\\psi_{in} \\rangle = |\\psi_{0} \\rangle = |00\\rangle\n",
    "$$"
   ]
  },
  {
   "cell_type": "markdown",
   "metadata": {},
   "source": [
    "$$\n",
    "|\\psi_1\\rangle = (H \\otimes I) |\\psi_{in} \\rangle = H |0\\rangle \\otimes |0\\rangle = \\left ( \\frac{1}{\\sqrt{2}} |0\\rangle + \\frac{1}{\\sqrt{2}} |1\\rangle \\right) \\otimes |0\\rangle \\\\ = \\frac{1}{\\sqrt{2}} |00\\rangle \n",
    "+ \\frac{1}{\\sqrt{2}} |10\\rangle\n",
    "$$"
   ]
  },
  {
   "cell_type": "markdown",
   "metadata": {},
   "source": [
    "$$\n",
    "|\\psi_2\\rangle = CX_{0,1} |\\psi_1\\rangle = \\frac{1}{\\sqrt{2}} CX_{0,1} |00\\rangle + \\frac{1}{\\sqrt{2}} CX_{0,1} |10\\rangle = \\frac{1}{\\sqrt{2}} |00\\rangle + \\frac{1}{\\sqrt{2}} |11\\rangle\n",
    "$$"
   ]
  },
  {
   "cell_type": "markdown",
   "metadata": {},
   "source": [
    "$$\n",
    "|\\psi_3\\rangle = (Z \\otimes I) |\\psi_2\\rangle = \\frac{1}{\\sqrt{2}} Z |0\\rangle \\otimes |0\\rangle + \\frac{1}{\\sqrt{2}} Z |1\\rangle \\otimes |1\\rangle \\\\ = \\frac{1}{\\sqrt{2}} |0\\rangle \\otimes |0\\rangle - \\frac{1}{\\sqrt{2}} |1\\rangle \\otimes |1\\rangle = \\frac{1}{\\sqrt{2}} |00\\rangle - \\frac{1}{\\sqrt{2}} |11\\rangle \n",
    "$$"
   ]
  },
  {
   "cell_type": "markdown",
   "metadata": {},
   "source": [
    "$$\n",
    "|\\psi_4\\rangle = CX_{0,1} |\\psi_3\\rangle = \\frac{1}{\\sqrt{2}} CX_{0,1} |00\\rangle - \\frac{1}{\\sqrt{2}} CX_{0,1} |11\\rangle = \\frac{1}{\\sqrt{2}} |00\\rangle - \\frac{1}{\\sqrt{2}} |10\\rangle \n",
    "$$"
   ]
  },
  {
   "cell_type": "markdown",
   "metadata": {},
   "source": [
    "$$\n",
    "|\\psi_{out} \\rangle = |\\psi_5\\rangle = (H \\otimes I) |\\psi_4\\rangle = \\frac{1}{\\sqrt{2}} H |0\\rangle \\otimes |0\\rangle - \\frac{1}{\\sqrt{2}} H |1\\rangle \\otimes |0\\rangle \\\\ = \\frac{1}{\\sqrt{2}} \\left ( \\frac{1}{\\sqrt{2}} |0\\rangle + \\frac{1}{\\sqrt{2}} |1\\rangle \\right) \\otimes |0\\rangle - \\frac{1}{\\sqrt{2}} \\left ( \\frac{1}{\\sqrt{2}} |0\\rangle - \\frac{1}{\\sqrt{2}} |1\\rangle \\right) \\otimes |0\\rangle \\\\ = \\frac{1}{2} |00\\rangle + \\frac{1}{2} |10\\rangle - \\frac{1}{2} |00\\rangle + \\frac{1}{2} |10\\rangle = |10\\rangle\n",
    "$$"
   ]
  },
  {
   "cell_type": "markdown",
   "metadata": {},
   "source": [
    "### Pair 11"
   ]
  },
  {
   "cell_type": "markdown",
   "metadata": {},
   "source": [
    "$$\n",
    "|\\psi_{in} \\rangle = |\\psi_{0} \\rangle = |00\\rangle\n",
    "$$"
   ]
  },
  {
   "cell_type": "markdown",
   "metadata": {},
   "source": [
    "$$\n",
    "|\\psi_1\\rangle = (H \\otimes I) |\\psi_{in} \\rangle = H |0\\rangle \\otimes |0\\rangle = \\left ( \\frac{1}{\\sqrt{2}} |0\\rangle + \\frac{1}{\\sqrt{2}} |1\\rangle \\right) \\otimes |0\\rangle \\\\ = \\frac{1}{\\sqrt{2}} |00\\rangle \n",
    "+ \\frac{1}{\\sqrt{2}} |10\\rangle\n",
    "$$"
   ]
  },
  {
   "cell_type": "markdown",
   "metadata": {},
   "source": [
    "$$\n",
    "|\\psi_2\\rangle = CX_{0,1} |\\psi_1\\rangle = \\frac{1}{\\sqrt{2}} CX_{0,1} |00\\rangle + \\frac{1}{\\sqrt{2}} CX_{0,1} |10\\rangle = \\frac{1}{\\sqrt{2}} |00\\rangle + \\frac{1}{\\sqrt{2}} |11\\rangle\n",
    "$$"
   ]
  },
  {
   "cell_type": "markdown",
   "metadata": {},
   "source": [
    "$$\n",
    "|\\psi_3\\rangle = (Z \\otimes I) |\\psi_2\\rangle = \\frac{1}{\\sqrt{2}} Z |0\\rangle \\otimes |0\\rangle + \\frac{1}{\\sqrt{2}} Z |1\\rangle \\otimes |1\\rangle \\\\ = \\frac{1}{\\sqrt{2}} |0\\rangle \\otimes |0\\rangle - \\frac{1}{\\sqrt{2}} |1\\rangle \\otimes |1\\rangle = \\frac{1}{\\sqrt{2}} |00\\rangle - \\frac{1}{\\sqrt{2}} |11\\rangle \n",
    "$$"
   ]
  },
  {
   "cell_type": "markdown",
   "metadata": {},
   "source": [
    "$$\n",
    "|\\psi_4\\rangle = (X \\otimes I) |\\psi_3\\rangle = \\frac{1}{\\sqrt{2}} X |0\\rangle \\otimes |0\\rangle - \\frac{1}{\\sqrt{2}} X |1\\rangle \\otimes |1\\rangle \\\\ = \\frac{1}{\\sqrt{2}} |1\\rangle \\otimes |0\\rangle - \\frac{1}{\\sqrt{2}} |0\\rangle \\otimes |1\\rangle = \\frac{1}{\\sqrt{2}} |10\\rangle - \\frac{1}{\\sqrt{2}} |01\\rangle \n",
    "$$"
   ]
  },
  {
   "cell_type": "markdown",
   "metadata": {},
   "source": [
    "$$\n",
    "|\\psi_5\\rangle = CX_{0,1} |\\psi_4\\rangle = \\frac{1}{\\sqrt{2}} CX_{0,1} |10\\rangle - \\frac{1}{\\sqrt{2}} CX_{0,1} |01\\rangle = \\frac{1}{\\sqrt{2}} |11\\rangle - \\frac{1}{\\sqrt{2}} |01\\rangle\n",
    "$$"
   ]
  },
  {
   "cell_type": "markdown",
   "metadata": {},
   "source": [
    "$$\n",
    "|\\psi_{out} \\rangle = |\\psi_6\\rangle = (H \\otimes I) |\\psi_5\\rangle = \\frac{1}{\\sqrt{2}} H |1\\rangle \\otimes |1\\rangle - \\frac{1}{\\sqrt{2}} H |0\\rangle \\otimes |1\\rangle \\\\ = \\frac{1}{\\sqrt{2}} \\left ( \\frac{1}{\\sqrt{2}} |0\\rangle - \\frac{1}{\\sqrt{2}} |1\\rangle \\right) \\otimes |1\\rangle - \\frac{1}{\\sqrt{2}} \\left ( \\frac{1}{\\sqrt{2}} |0\\rangle + \\frac{1}{\\sqrt{2}} |1\\rangle \\right) \\otimes |1\\rangle \\\\ = \\frac{1}{2} |01\\rangle - \\frac{1}{2} |11\\rangle - \\frac{1}{2} |01\\rangle - \\frac{1}{2} |11\\rangle = -|11\\rangle\n",
    "$$"
   ]
  },
  {
   "cell_type": "markdown",
   "metadata": {},
   "source": [
    "## Task 3"
   ]
  },
  {
   "cell_type": "code",
   "execution_count": 23,
   "metadata": {},
   "outputs": [],
   "source": [
    "all_pairs = ['00','01','10','11']"
   ]
  },
  {
   "cell_type": "code",
   "execution_count": 24,
   "metadata": {},
   "outputs": [
    {
     "data": {
      "image/png": "[encoded data removed]",
      "text/plain": [
       "<Figure size 659.792x204.68 with 1 Axes>"
      ]
     },
     "metadata": {},
     "output_type": "display_data"
    },
    {
     "name": "stdout",
     "output_type": "stream",
     "text": [
      "00 --> {'00': 100}\n"
     ]
    },
    {
     "data": {
      "image/png": "[encoded data removed]",
      "text/plain": [
       "<Figure size 719.992x204.68 with 1 Axes>"
      ]
     },
     "metadata": {},
     "output_type": "display_data"
    },
    {
     "name": "stdout",
     "output_type": "stream",
     "text": [
      "01 --> {'01': 100}\n"
     ]
    },
    {
     "data": {
      "image/png": "[encoded data removed]",
      "text/plain": [
       "<Figure size 719.992x204.68 with 1 Axes>"
      ]
     },
     "metadata": {},
     "output_type": "display_data"
    },
    {
     "name": "stdout",
     "output_type": "stream",
     "text": [
      "10 --> {'10': 100}\n"
     ]
    },
    {
     "data": {
      "image/png": "[encoded data removed]",
      "text/plain": [
       "<Figure size 780.192x204.68 with 1 Axes>"
      ]
     },
     "metadata": {},
     "output_type": "display_data"
    },
    {
     "name": "stdout",
     "output_type": "stream",
     "text": [
      "11 --> {'11': 100}\n"
     ]
    }
   ],
   "source": [
    "for pair in all_pairs:\n",
    "    qc = QuantumCircuit(q,c)\n",
    "    qc.h(q[1])\n",
    "    qc.cx(q[1],q[0])\n",
    "    \n",
    "    if pair[0] == '1':\n",
    "        qc.z(q[0])\n",
    "        \n",
    "    if pair[1] == '1':\n",
    "        qc.x(q[0])\n",
    "        \n",
    "    qc.barrier()\n",
    "    \n",
    "    qc.cx(q[1], q[0])\n",
    "    qc.h(q[1])\n",
    "    \n",
    "    qc.barrier()\n",
    "    qc.measure(q,c)\n",
    "    \n",
    "    display(qc.draw('mpl', reverse_bits=True))\n",
    "    \n",
    "    job = execute(qc, backend, shots=100)\n",
    "    counts = job.result().get_counts(qc)\n",
    "    print(pair,'-->',counts)"
   ]
  },
  {
   "cell_type": "markdown",
   "metadata": {},
   "source": [
    "## Task 4"
   ]
  },
  {
   "cell_type": "markdown",
   "metadata": {},
   "source": [
    "### Pair 00"
   ]
  },
  {
   "cell_type": "markdown",
   "metadata": {},
   "source": [
    "$$\n",
    "|\\psi_{in} \\rangle =|\\psi_0\\rangle = |00\\rangle\n",
    "$$"
   ]
  },
  {
   "cell_type": "markdown",
   "metadata": {},
   "source": [
    "$$\n",
    "|\\psi_1\\rangle = (H \\otimes I) |\\psi_{0} \\rangle = H |0\\rangle \\otimes |0\\rangle = \\left ( \\frac{1}{\\sqrt{2}} |0\\rangle + \\frac{1}{\\sqrt{2}} |1\\rangle \\right) \\otimes |0\\rangle \\\\ = \\frac{1}{\\sqrt{2}} |00\\rangle \n",
    "+ \\frac{1}{\\sqrt{2}} |10\\rangle\n",
    "$$"
   ]
  },
  {
   "cell_type": "markdown",
   "metadata": {},
   "source": [
    "$$\n",
    "|\\psi_2\\rangle = CX_{0,1} |\\psi_1\\rangle = \\frac{1}{\\sqrt{2}} CX_{0,1} |00\\rangle + \\frac{1}{\\sqrt{2}} CX_{0,1} |10\\rangle = \\frac{1}{\\sqrt{2}} |00\\rangle + \\frac{1}{\\sqrt{2}} |11\\rangle\n",
    "$$"
   ]
  },
  {
   "cell_type": "markdown",
   "metadata": {},
   "source": [
    "$$\n",
    "|\\psi_3\\rangle = CX_{0,1} |\\psi_2\\rangle = \\frac{1}{\\sqrt{2}} CX_{0,1} |00\\rangle + \\frac{1}{\\sqrt{2}} CX_{0,1} |11\\rangle = \\frac{1}{\\sqrt{2}} |00\\rangle + \\frac{1}{\\sqrt{2}} |10\\rangle\n",
    "$$"
   ]
  },
  {
   "cell_type": "markdown",
   "metadata": {},
   "source": [
    "$$\n",
    "|\\psi_{out}\\rangle = |\\psi_4\\rangle = (H \\otimes I) |\\psi_3\\rangle = \\frac{1}{\\sqrt{2}} H |0\\rangle \\otimes |0\\rangle + \\frac{1}{\\sqrt{2}} H |1\\rangle \\otimes |0\\rangle = \\frac{1}{\\sqrt{2}} \\left ( \\frac{1}{\\sqrt{2}} |0\\rangle + \\frac{1}{\\sqrt{2}} |1\\rangle \\right) \\otimes |0\\rangle + \\frac{1}{\\sqrt{2}} \\left ( \\frac{1}{\\sqrt{2}} |0\\rangle - \\frac{1}{\\sqrt{2}} |1\\rangle \\right) \\otimes |0\\rangle \\\\ = \n",
    "\\frac{1}{2} |00\\rangle + \\frac{1}{2} |10\\rangle + \\frac{1}{2} |00\\rangle - \\frac{1}{2} |10\\rangle = |00\\rangle\n",
    "$$"
   ]
  },
  {
   "cell_type": "markdown",
   "metadata": {},
   "source": [
    "### Pair 01"
   ]
  },
  {
   "cell_type": "markdown",
   "metadata": {},
   "source": [
    "$$\n",
    "|\\psi_{in} \\rangle =|\\psi_0\\rangle = |00\\rangle\n",
    "$$"
   ]
  },
  {
   "cell_type": "markdown",
   "metadata": {},
   "source": [
    "$$\n",
    "|\\psi_1\\rangle = (H \\otimes I) |\\psi_{0} \\rangle = H |0\\rangle \\otimes |0\\rangle = \\left ( \\frac{1}{\\sqrt{2}} |0\\rangle + \\frac{1}{\\sqrt{2}} |1\\rangle \\right) \\otimes |0\\rangle \\\\ = \\frac{1}{\\sqrt{2}} |00\\rangle \n",
    "+ \\frac{1}{\\sqrt{2}} |10\\rangle\n",
    "$$"
   ]
  },
  {
   "cell_type": "markdown",
   "metadata": {},
   "source": [
    "$$\n",
    "|\\psi_2\\rangle = CX_{0,1} |\\psi_1\\rangle = \\frac{1}{\\sqrt{2}} CX_{0,1} |00\\rangle + \\frac{1}{\\sqrt{2}} CX_{0,1} |10\\rangle = \\frac{1}{\\sqrt{2}} |00\\rangle + \\frac{1}{\\sqrt{2}} |11\\rangle\n",
    "$$"
   ]
  },
  {
   "cell_type": "markdown",
   "metadata": {},
   "source": [
    "$$\n",
    "|\\psi_3\\rangle = (I \\otimes X) |\\psi_2\\rangle = \\frac{1}{\\sqrt{2}} |0\\rangle \\otimes X|0\\rangle + \\frac{1}{\\sqrt{2}} |1\\rangle \\otimes X |1\\rangle \\\\ = \\frac{1}{\\sqrt{2}} |0\\rangle \\otimes |1\\rangle + \\frac{1}{\\sqrt{2}} |1\\rangle \\otimes |0\\rangle = \\frac{1}{\\sqrt{2}} |01\\rangle + \\frac{1}{\\sqrt{2}} |10\\rangle \n",
    "$$"
   ]
  },
  {
   "cell_type": "markdown",
   "metadata": {},
   "source": [
    "$$\n",
    "|\\psi_4\\rangle = CX_{0,1} |\\psi_3\\rangle = \\frac{1}{\\sqrt{2}} CX_{0,1} |01\\rangle + \\frac{1}{\\sqrt{2}} CX_{0,1} |10\\rangle = \\frac{1}{\\sqrt{2}} |01\\rangle + \\frac{1}{\\sqrt{2}} |11\\rangle\n",
    "$$"
   ]
  },
  {
   "cell_type": "markdown",
   "metadata": {},
   "source": [
    "$$\n",
    "|\\psi_{out}\\rangle = |\\psi_5\\rangle = (H \\otimes I) |\\psi_4\\rangle = \\frac{1}{\\sqrt{2}} H |0\\rangle \\otimes |1\\rangle + \\frac{1}{\\sqrt{2}} H |1\\rangle \\otimes |1\\rangle = \\frac{1}{\\sqrt{2}} \\left ( \\frac{1}{\\sqrt{2}} |0\\rangle + \\frac{1}{\\sqrt{2}} |1\\rangle \\right) \\otimes |1\\rangle + \\frac{1}{\\sqrt{2}} \\left ( \\frac{1}{\\sqrt{2}} |0\\rangle - \\frac{1}{\\sqrt{2}} |1\\rangle \\right) \\otimes |1\\rangle \\\\ = \n",
    "\\frac{1}{2} |01\\rangle + \\frac{1}{2} |11\\rangle + \\frac{1}{2} |01\\rangle - \\frac{1}{2} |11\\rangle = |01\\rangle\n",
    "$$"
   ]
  },
  {
   "cell_type": "markdown",
   "metadata": {},
   "source": [
    "### Pair 10"
   ]
  },
  {
   "cell_type": "markdown",
   "metadata": {},
   "source": [
    "$$\n",
    "|\\psi_{in} \\rangle =|\\psi_0\\rangle = |00\\rangle\n",
    "$$"
   ]
  },
  {
   "cell_type": "markdown",
   "metadata": {},
   "source": [
    "$$\n",
    "|\\psi_1\\rangle = (H \\otimes I) |\\psi_{0} \\rangle = H |0\\rangle \\otimes |0\\rangle = \\left ( \\frac{1}{\\sqrt{2}} |0\\rangle + \\frac{1}{\\sqrt{2}} |1\\rangle \\right) \\otimes |0\\rangle \\\\ = \\frac{1}{\\sqrt{2}} |00\\rangle \n",
    "+ \\frac{1}{\\sqrt{2}} |10\\rangle\n",
    "$$"
   ]
  },
  {
   "cell_type": "markdown",
   "metadata": {},
   "source": [
    "$$\n",
    "|\\psi_2\\rangle = CX_{0,1} |\\psi_1\\rangle = \\frac{1}{\\sqrt{2}} CX_{0,1} |00\\rangle + \\frac{1}{\\sqrt{2}} CX_{0,1} |10\\rangle = \\frac{1}{\\sqrt{2}} |00\\rangle + \\frac{1}{\\sqrt{2}} |11\\rangle\n",
    "$$"
   ]
  },
  {
   "cell_type": "markdown",
   "metadata": {},
   "source": [
    "$$\n",
    "|\\psi_3\\rangle = (I \\otimes Z) |\\psi_2\\rangle = \\frac{1}{\\sqrt{2}} |0\\rangle \\otimes Z|0\\rangle + \\frac{1}{\\sqrt{2}} |1\\rangle \\otimes Z |1\\rangle \\\\ = \\frac{1}{\\sqrt{2}} |0\\rangle \\otimes |0\\rangle - \\frac{1}{\\sqrt{2}} |1\\rangle \\otimes |1\\rangle = \\frac{1}{\\sqrt{2}} |00\\rangle - \\frac{1}{\\sqrt{2}} |11\\rangle \n",
    "$$"
   ]
  },
  {
   "cell_type": "markdown",
   "metadata": {},
   "source": [
    "$$\n",
    "|\\psi_4\\rangle = CX_{0,1} |\\psi_3\\rangle = \\frac{1}{\\sqrt{2}} CX_{0,1} |00\\rangle - \\frac{1}{\\sqrt{2}} CX_{0,1} |11\\rangle = \\frac{1}{\\sqrt{2}} |00\\rangle - \\frac{1}{\\sqrt{2}} |10\\rangle\n",
    "$$"
   ]
  },
  {
   "cell_type": "markdown",
   "metadata": {},
   "source": [
    "$$\n",
    "|\\psi_{out}\\rangle = |\\psi_5\\rangle = (H \\otimes I) |\\psi_4\\rangle = \\frac{1}{\\sqrt{2}} H |0\\rangle \\otimes |0\\rangle - \\frac{1}{\\sqrt{2}} H |1\\rangle \\otimes |0\\rangle = \\frac{1}{\\sqrt{2}} \\left ( \\frac{1}{\\sqrt{2}} |0\\rangle + \\frac{1}{\\sqrt{2}} |1\\rangle \\right) \\otimes |0\\rangle - \\frac{1}{\\sqrt{2}} \\left ( \\frac{1}{\\sqrt{2}} |0\\rangle - \\frac{1}{\\sqrt{2}} |1\\rangle \\right) \\otimes |0\\rangle \\\\ = \n",
    "\\frac{1}{2} |00\\rangle + \\frac{1}{2} |10\\rangle - \\frac{1}{2} |00\\rangle - \\frac{1}{2} |10\\rangle = |10\\rangle\n",
    "$$"
   ]
  },
  {
   "cell_type": "markdown",
   "metadata": {},
   "source": [
    "### Pair 11"
   ]
  },
  {
   "cell_type": "markdown",
   "metadata": {},
   "source": [
    "$$\n",
    "|\\psi_{in} \\rangle =|\\psi_0\\rangle = |00\\rangle\n",
    "$$"
   ]
  },
  {
   "cell_type": "markdown",
   "metadata": {},
   "source": [
    "$$\n",
    "|\\psi_1\\rangle = (H \\otimes I) |\\psi_{0} \\rangle = H |0\\rangle \\otimes |0\\rangle = \\left ( \\frac{1}{\\sqrt{2}} |0\\rangle + \\frac{1}{\\sqrt{2}} |1\\rangle \\right) \\otimes |0\\rangle \\\\ = \\frac{1}{\\sqrt{2}} |00\\rangle \n",
    "+ \\frac{1}{\\sqrt{2}} |10\\rangle\n",
    "$$"
   ]
  },
  {
   "cell_type": "markdown",
   "metadata": {},
   "source": [
    "$$\n",
    "|\\psi_2\\rangle = CX_{0,1} |\\psi_1\\rangle = \\frac{1}{\\sqrt{2}} CX_{0,1} |00\\rangle + \\frac{1}{\\sqrt{2}} CX_{0,1} |10\\rangle = \\frac{1}{\\sqrt{2}} |00\\rangle + \\frac{1}{\\sqrt{2}} |11\\rangle\n",
    "$$"
   ]
  },
  {
   "cell_type": "markdown",
   "metadata": {},
   "source": [
    "$$\n",
    "|\\psi_3\\rangle = (I \\otimes Z) |\\psi_2\\rangle = \\frac{1}{\\sqrt{2}} |0\\rangle \\otimes Z|0\\rangle + \\frac{1}{\\sqrt{2}} |1\\rangle \\otimes Z |1\\rangle \\\\ = \\frac{1}{\\sqrt{2}} |0\\rangle \\otimes |0\\rangle - \\frac{1}{\\sqrt{2}} |1\\rangle \\otimes |1\\rangle = \\frac{1}{\\sqrt{2}} |00\\rangle - \\frac{1}{\\sqrt{2}} |11\\rangle \n",
    "$$"
   ]
  },
  {
   "cell_type": "markdown",
   "metadata": {},
   "source": [
    "$$\n",
    "|\\psi_4\\rangle = (I \\otimes X) |\\psi_3\\rangle = \\frac{1}{\\sqrt{2}} |0\\rangle \\otimes X|0\\rangle - \\frac{1}{\\sqrt{2}} |1\\rangle \\otimes X|1\\rangle \\\\ = \\frac{1}{\\sqrt{2}} |0\\rangle \\otimes |1\\rangle - \\frac{1}{\\sqrt{2}} |1\\rangle \\otimes |0\\rangle = \\frac{1}{\\sqrt{2}} |01\\rangle - \\frac{1}{\\sqrt{2}} |10\\rangle \n",
    "$$"
   ]
  },
  {
   "cell_type": "markdown",
   "metadata": {},
   "source": [
    "$$\n",
    "|\\psi_5\\rangle = CX_{0,1} |\\psi_4\\rangle = \\frac{1}{\\sqrt{2}} CX_{0,1} |01\\rangle - \\frac{1}{\\sqrt{2}} CX_{0,1} |10\\rangle = \\frac{1}{\\sqrt{2}} |01\\rangle - \\frac{1}{\\sqrt{2}} |11\\rangle\n",
    "$$"
   ]
  },
  {
   "cell_type": "markdown",
   "metadata": {},
   "source": [
    "$$\n",
    "|\\psi_{out}\\rangle = |\\psi_6\\rangle = (H \\otimes I) |\\psi_5\\rangle = \\frac{1}{\\sqrt{2}} H |0\\rangle \\otimes |0\\rangle - \\frac{1}{\\sqrt{2}} H |1\\rangle \\otimes |1\\rangle = \\frac{1}{\\sqrt{2}} \\left ( \\frac{1}{\\sqrt{2}} |0\\rangle + \\frac{1}{\\sqrt{2}} |1\\rangle \\right) \\otimes |1\\rangle - \\frac{1}{\\sqrt{2}} \\left ( \\frac{1}{\\sqrt{2}} |0\\rangle - \\frac{1}{\\sqrt{2}} |1\\rangle \\right) \\otimes |1\\rangle \\\\ = \n",
    "\\frac{1}{2} |01\\rangle + \\frac{1}{2} |11\\rangle - \\frac{1}{2} |01\\rangle + \\frac{1}{2} |11\\rangle = |11\\rangle\n",
    "$$"
   ]
  },
  {
   "cell_type": "markdown",
   "metadata": {},
   "source": [
    "# Quantum Teleportation"
   ]
  },
  {
   "cell_type": "markdown",
   "metadata": {},
   "source": [
    "## Task 1"
   ]
  },
  {
   "cell_type": "markdown",
   "metadata": {},
   "source": [
    "The state before applying a CNOT gate"
   ]
  },
  {
   "cell_type": "markdown",
   "metadata": {},
   "source": [
    "$$\n",
    "|\\psi_{before}\\rangle = \\frac{1}{\\sqrt{2}} \\left( a|000\\rangle + a|011\\rangle + b|100\\rangle + b|111\\rangle \\right)\n",
    "$$"
   ]
  },
  {
   "cell_type": "markdown",
   "metadata": {},
   "source": [
    "The state after applying a CNOT gate"
   ]
  },
  {
   "cell_type": "markdown",
   "metadata": {},
   "source": [
    "$$\n",
    "|\\psi_{after}\\rangle = CX_{0,1} |\\psi_{before}\\rangle \\\\ = \\frac{1}{\\sqrt{2}} \\left( a \\, CX_{0,1}|000\\rangle + a \\, CX_{0,1}|011\\rangle + b \\, CX_{0,1}|100\\rangle + b \\, CX_{0,1}|111\\rangle \\right) = \\frac{1}{\\sqrt{2}} \\left( a|000\\rangle + a|011\\rangle + b|110\\rangle + b|101\\rangle \\right)\n",
    "$$"
   ]
  },
  {
   "cell_type": "markdown",
   "metadata": {},
   "source": [
    "where we follow the **textbook** qubit ordering."
   ]
  },
  {
   "cell_type": "markdown",
   "metadata": {},
   "source": [
    "## Task 2"
   ]
  },
  {
   "cell_type": "markdown",
   "metadata": {},
   "source": [
    "The state before applying a Hadmard gate"
   ]
  },
  {
   "cell_type": "markdown",
   "metadata": {},
   "source": [
    "$$\n",
    "|\\psi_{before}\\rangle = \\frac{1}{\\sqrt{2}} \\left(a|000\\rangle + a|011\\rangle + b|110\\rangle + b|101\\rangle \\right)\n",
    "$$"
   ]
  },
  {
   "cell_type": "markdown",
   "metadata": {},
   "source": [
    "The state after applying a Hadamard gate"
   ]
  },
  {
   "cell_type": "markdown",
   "metadata": {},
   "source": [
    "$$\n",
    "|\\psi_{after}\\rangle = (H \\otimes I \\otimes I) |\\psi_{before}\\rangle \\\\ = \\frac{a}{\\sqrt{2}} H |0\\rangle \\otimes |00\\rangle + \\frac{a}{\\sqrt{2}} H |0\\rangle \\otimes |11\\rangle + \\frac{b}{\\sqrt{2}} H |1\\rangle \\otimes |10\\rangle + \\frac{b}{\\sqrt{2}} H |1\\rangle \\otimes |01\\rangle = \\frac{a}{\\sqrt{2}}\\left(\\frac{1}{\\sqrt{2}}|0\\rangle + \\frac{1}{\\sqrt{2}}|1\\rangle \\right) \\otimes |00\\rangle + \\frac{a}{\\sqrt{2}}\\left(\\frac{1}{\\sqrt{2}}|0\\rangle + \\frac{1}{\\sqrt{2}}|1\\rangle \\right) \\otimes |11\\rangle + \\frac{b}{\\sqrt{2}}\\left(\\frac{1}{\\sqrt{2}}|0\\rangle - \\frac{1}{\\sqrt{2}}|1\\rangle \\right) \\otimes |10\\rangle + \\frac{b}{\\sqrt{2}}\\left(\\frac{1}{\\sqrt{2}}|0\\rangle - \\frac{1}{\\sqrt{2}}|1\\rangle \\right) \\otimes |01\\rangle \\\\ = \\frac{a}{2} |000\\rangle + \\frac{a}{2} |100\\rangle + \\frac{a}{2} |011\\rangle + \\frac{a}{2} |111\\rangle + \\frac{b}{2} |010\\rangle - \\frac{b}{2} |110\\rangle + \\frac{b}{2} |001\\rangle - \\frac{b}{2} |101\\rangle = \\frac{1}{2} \\left ( a|000\\rangle + b|001\\rangle + b|010\\rangle + a|011\\rangle + a|100\\rangle - b|101\\rangle - b|110\\rangle + a|111\\rangle\\right)\n",
    "$$"
   ]
  },
  {
   "cell_type": "markdown",
   "metadata": {},
   "source": [
    "## Task 3"
   ]
  },
  {
   "cell_type": "markdown",
   "metadata": {},
   "source": [
    "### Measurement outcome \"00\""
   ]
  },
  {
   "cell_type": "markdown",
   "metadata": {},
   "source": [
    "The state of Balvis qubit"
   ]
  },
  {
   "cell_type": "markdown",
   "metadata": {},
   "source": [
    "$$\n",
    "|\\psi_{00}\\rangle = a|0\\rangle + b|1\\rangle\n",
    "$$"
   ]
  },
  {
   "cell_type": "markdown",
   "metadata": {},
   "source": [
    "Balvis does not need to apply an extra operation on his qubit."
   ]
  },
  {
   "cell_type": "markdown",
   "metadata": {},
   "source": [
    "### Measurement outcome \"01\""
   ]
  },
  {
   "cell_type": "markdown",
   "metadata": {},
   "source": [
    "The state of Balvis qubit"
   ]
  },
  {
   "cell_type": "markdown",
   "metadata": {},
   "source": [
    "$$\n",
    "|\\psi\\rangle = b|0\\rangle + a|1\\rangle\n",
    "$$"
   ]
  },
  {
   "cell_type": "markdown",
   "metadata": {},
   "source": [
    "If Balvis applies an X gate, the state becomes"
   ]
  },
  {
   "cell_type": "markdown",
   "metadata": {},
   "source": [
    "$$\n",
    "|\\psi_{01}\\rangle = X|\\psi\\rangle = b \\, X|1\\rangle + a \\, X|0\\rangle = a|0\\rangle +b|1\\rangle\n",
    "$$"
   ]
  },
  {
   "cell_type": "markdown",
   "metadata": {},
   "source": [
    "### Measurement outcome \"10\""
   ]
  },
  {
   "cell_type": "markdown",
   "metadata": {},
   "source": [
    "The state of Balvis qubit"
   ]
  },
  {
   "cell_type": "markdown",
   "metadata": {},
   "source": [
    "$$\n",
    "|\\psi\\rangle = a|0\\rangle - b|1\\rangle\n",
    "$$"
   ]
  },
  {
   "cell_type": "markdown",
   "metadata": {},
   "source": [
    "If Balvis applies a Z gate, the state becomes"
   ]
  },
  {
   "cell_type": "markdown",
   "metadata": {},
   "source": [
    "$$\n",
    "|\\psi_{10}\\rangle = Z|\\psi\\rangle = a \\, Z|0\\rangle - b \\, Z|1\\rangle = a|0\\rangle +b|1\\rangle\n",
    "$$"
   ]
  },
  {
   "cell_type": "markdown",
   "metadata": {},
   "source": [
    "### Measurement outcome \"11\""
   ]
  },
  {
   "cell_type": "markdown",
   "metadata": {},
   "source": [
    "The state of Balvis qubit"
   ]
  },
  {
   "cell_type": "markdown",
   "metadata": {},
   "source": [
    "$$\n",
    "|\\psi_0\\rangle = a|1\\rangle - b|0\\rangle\n",
    "$$"
   ]
  },
  {
   "cell_type": "markdown",
   "metadata": {},
   "source": [
    "If Balvis applies an X gate followed by a Z gate, the state becomes"
   ]
  },
  {
   "cell_type": "markdown",
   "metadata": {},
   "source": [
    "$$\n",
    "|\\psi_1\\rangle = X |\\psi_0\\rangle = a \\, X|1\\rangle - b \\, X|0\\rangle = a|0\\rangle - b|1\\rangle\n",
    "$$"
   ]
  },
  {
   "cell_type": "markdown",
   "metadata": {},
   "source": [
    "$$\n",
    "|\\psi_{11}\\rangle = Z|\\psi_1\\rangle = a \\, Z|0\\rangle - b \\, Z|1\\rangle = a|0\\rangle +b|1\\rangle\n",
    "$$"
   ]
  },
  {
   "cell_type": "markdown",
   "metadata": {},
   "source": [
    "## Task 4 "
   ]
  },
  {
   "cell_type": "code",
   "execution_count": 25,
   "metadata": {},
   "outputs": [],
   "source": [
    "q = QuantumRegister(3, 'q')\n",
    "c = ClassicalRegister(3, 'c')\n",
    "qc = QuantumCircuit(q,c)"
   ]
  },
  {
   "cell_type": "code",
   "execution_count": 26,
   "metadata": {},
   "outputs": [
    {
     "name": "stdout",
     "output_type": "stream",
     "text": [
      "The chossen angle is 65 deg or 1.134 rad\n"
     ]
    }
   ],
   "source": [
    "import numpy as np\n",
    "rand_angle = randrange(360)\n",
    "theta = 2*np.pi*rand_angle/360\n",
    "print('The chossen angle is',rand_angle,'deg or', round(theta,3),'rad')"
   ]
  },
  {
   "cell_type": "code",
   "execution_count": 27,
   "metadata": {},
   "outputs": [
    {
     "name": "stdout",
     "output_type": "stream",
     "text": [
      "The state amplitudes:\n",
      "a = 0.423\n",
      "b = 0.906\n"
     ]
    }
   ],
   "source": [
    "a = np.cos(theta)\n",
    "b = np.sin(theta)\n",
    "print('The state amplitudes:')\n",
    "print(\"a =\", round(a,3))\n",
    "print('b =', round(b,3))"
   ]
  },
  {
   "cell_type": "code",
   "execution_count": 28,
   "metadata": {},
   "outputs": [
    {
     "data": {
      "image/png": "[encoded data removed]",
      "text/plain": [
       "<Figure size 539.392x264.88 with 1 Axes>"
      ]
     },
     "execution_count": 28,
     "metadata": {},
     "output_type": "execute_result"
    }
   ],
   "source": [
    "qc.ry(2*theta, q[2])\n",
    "qc.h(q[1])\n",
    "qc.cx(q[1], q[0])\n",
    "qc.cx(q[2], q[1])\n",
    "qc.h(q[2])\n",
    "qc.measure(q[2],c[2])\n",
    "qc.measure(q[1],c[1])\n",
    "qc.draw('mpl', reverse_bits=True)"
   ]
  },
  {
   "cell_type": "code",
   "execution_count": 29,
   "metadata": {},
   "outputs": [
    {
     "name": "stdout",
     "output_type": "stream",
     "text": [
      "The state vector components are\n",
      "0.4226182617406994\n",
      "0.9063077870366498\n",
      "0.0\n",
      "0.0\n",
      "0.0\n",
      "0.0\n",
      "0.0\n",
      "0.0\n"
     ]
    }
   ],
   "source": [
    "backend = Aer.get_backend('statevector_simulator')\n",
    "job = execute(qc, backend, shots=1, optimization_level=0)\n",
    "state = job.result().get_statevector(qc)\n",
    "print('The state vector components are')\n",
    "for i in range(len(state)):\n",
    "    print(state[i].real)"
   ]
  },
  {
   "cell_type": "code",
   "execution_count": 30,
   "metadata": {},
   "outputs": [],
   "source": [
    "bits = ['00', '01', '10', '11']"
   ]
  },
  {
   "cell_type": "code",
   "execution_count": 31,
   "metadata": {},
   "outputs": [
    {
     "name": "stdout",
     "output_type": "stream",
     "text": [
      "The classical outcome is 00\n"
     ]
    }
   ],
   "source": [
    "for i in range(4):\n",
    "    if (state[2*i].real != 0) or (state[2*i+1].real != 0):\n",
    "        print('The classical outcome is', bits[i])\n",
    "        bit = bits[i]\n",
    "        balvis_state = [state[2*i].real, state[2*i+1].real]"
   ]
  },
  {
   "cell_type": "code",
   "execution_count": 32,
   "metadata": {},
   "outputs": [
    {
     "name": "stdout",
     "output_type": "stream",
     "text": [
      "The new quantum state is |00>(0.423|0> +0.906|1>)\n"
     ]
    }
   ],
   "source": [
    "quantum_state = '|'+bit+'>'\n",
    "quantum_state += '(' + str(round(balvis_state[0],3)) + '|0> +' + str(round(balvis_state[1],3)) + '|1>)'\n",
    "print('The new quantum state is', quantum_state)"
   ]
  },
  {
   "cell_type": "code",
   "execution_count": 33,
   "metadata": {},
   "outputs": [],
   "source": [
    "all_bits = ['000', '001', '010', '011', '100', '101', '110', '111']"
   ]
  },
  {
   "cell_type": "code",
   "execution_count": 34,
   "metadata": {},
   "outputs": [],
   "source": [
    "state_type = '|'+bit+'>('"
   ]
  },
  {
   "cell_type": "code",
   "execution_count": 35,
   "metadata": {},
   "outputs": [
    {
     "name": "stdout",
     "output_type": "stream",
     "text": [
      "The quantum state is of type: |00>(+a|0>+b|1>)\n"
     ]
    }
   ],
   "source": [
    "for i in range(len(state)):\n",
    "    if abs(state[i].real-a) < 0.000001:\n",
    "        state_type += '+a|'+ all_bits[i][2] + '>'\n",
    "    elif abs(state[i].real+a) < 0.000001:\n",
    "        state_type += '-a|'+ all_bits[i][2] + '>'\n",
    "    elif abs(state[i].real-b) < 0.000001:\n",
    "        state_type += '+b|'+ all_bits[i][2] + '>'\n",
    "    elif abs(state[i].real+b) < 0.000001:\n",
    "        state_type += '-b|'+ all_bits[i][2] + '>'\n",
    "state_type += ')'\n",
    "print('The quantum state is of type:', state_type)"
   ]
  },
  {
   "cell_type": "markdown",
   "metadata": {},
   "source": [
    "## Task 5"
   ]
  },
  {
   "cell_type": "code",
   "execution_count": 36,
   "metadata": {},
   "outputs": [],
   "source": [
    "q = QuantumRegister(3, 'q')\n",
    "c1 = ClassicalRegister(1, 'c1')\n",
    "c2 = ClassicalRegister(1, 'c2')\n",
    "qc = QuantumCircuit(q,c1,c2)"
   ]
  },
  {
   "cell_type": "code",
   "execution_count": 37,
   "metadata": {},
   "outputs": [
    {
     "name": "stdout",
     "output_type": "stream",
     "text": [
      "The chossen angle is 150 deg or 2.618 rad\n"
     ]
    }
   ],
   "source": [
    "rand_angle = randrange(360)\n",
    "theta = 2*np.pi*rand_angle/360\n",
    "print('The chossen angle is',rand_angle,'deg or', round(theta,3),'rad')"
   ]
  },
  {
   "cell_type": "code",
   "execution_count": 38,
   "metadata": {},
   "outputs": [
    {
     "name": "stdout",
     "output_type": "stream",
     "text": [
      "The state amplitudes:\n",
      "a = -0.866\n",
      "b = 0.5\n"
     ]
    }
   ],
   "source": [
    "a = np.cos(theta)\n",
    "b = np.sin(theta)\n",
    "print('The state amplitudes:')\n",
    "print(\"a =\", round(a,3))\n",
    "print('b =', round(b,3))"
   ]
  },
  {
   "cell_type": "code",
   "execution_count": 39,
   "metadata": {},
   "outputs": [
    {
     "data": {
      "image/png": "[encoded data removed]",
      "text/plain": [
       "<Figure size 780.192x325.08 with 1 Axes>"
      ]
     },
     "execution_count": 39,
     "metadata": {},
     "output_type": "execute_result"
    }
   ],
   "source": [
    "qc.ry(2*theta, q[2])\n",
    "qc.h(q[1])\n",
    "qc.cx(q[1], q[0])\n",
    "qc.cx(q[2], q[1])\n",
    "qc.h(q[2])\n",
    "qc.barrier()\n",
    "qc.measure(q[2], c2)\n",
    "qc.measure(q[1], c1)\n",
    "qc.barrier()\n",
    "qc.x(q[0]).c_if(c1, 1)\n",
    "qc.z(q[0]).c_if(c2, 1)\n",
    "qc.draw('mpl', reverse_bits=True)"
   ]
  },
  {
   "cell_type": "code",
   "execution_count": 40,
   "metadata": {},
   "outputs": [
    {
     "name": "stdout",
     "output_type": "stream",
     "text": [
      "The statevector:\n",
      "0.0\n",
      "0.0\n",
      "0.0\n",
      "0.0\n",
      "-0.866\n",
      "0.5\n",
      "0.0\n",
      "0.0\n"
     ]
    }
   ],
   "source": [
    "job = execute(qc, backend, shots=1, optimization_level=0)\n",
    "state = job.result().get_statevector(qc)\n",
    "print('The statevector:')\n",
    "for i in range(len(state)):\n",
    "    print(round(state[i].real,4))"
   ]
  },
  {
   "cell_type": "code",
   "execution_count": 41,
   "metadata": {},
   "outputs": [
    {
     "name": "stdout",
     "output_type": "stream",
     "text": [
      "The classical outcome: 10\n"
     ]
    }
   ],
   "source": [
    "for i in range(len(bits)):\n",
    "    if (state[2*i].real != 0) or (state[2*i+1].real != 0):\n",
    "        print('The classical outcome:', bits[i])"
   ]
  },
  {
   "cell_type": "markdown",
   "metadata": {},
   "source": [
    "# Multiple Control Constructions"
   ]
  },
  {
   "cell_type": "markdown",
   "metadata": {},
   "source": [
    "## Task 1"
   ]
  },
  {
   "cell_type": "markdown",
   "metadata": {},
   "source": [
    "#### $ C_0C_0X $ Gate"
   ]
  },
  {
   "cell_type": "code",
   "execution_count": 42,
   "metadata": {},
   "outputs": [],
   "source": [
    "q = QuantumRegister(3, 'q')\n",
    "c = ClassicalRegister(3, 'c')\n",
    "qc = QuantumCircuit(q,c)"
   ]
  },
  {
   "cell_type": "code",
   "execution_count": 43,
   "metadata": {},
   "outputs": [
    {
     "data": {
      "image/png": "[encoded data removed]",
      "text/plain": [
       "<Figure size 358.792x264.88 with 1 Axes>"
      ]
     },
     "execution_count": 43,
     "metadata": {},
     "output_type": "execute_result"
    }
   ],
   "source": [
    "qc.x(q[2])\n",
    "qc.x(q[1])\n",
    "qc.ccx(q[2], q[1], q[0])\n",
    "qc.x(q[2])\n",
    "qc.x(q[1])\n",
    "qc.draw('mpl', reverse_bits=True)"
   ]
  },
  {
   "cell_type": "code",
   "execution_count": 44,
   "metadata": {},
   "outputs": [],
   "source": [
    "backend = Aer.get_backend('unitary_simulator')\n",
    "job = execute(qc, backend, shots=1)\n",
    "unitary = job.result().get_unitary(qc, decimals=3)"
   ]
  },
  {
   "cell_type": "code",
   "execution_count": 45,
   "metadata": {},
   "outputs": [
    {
     "name": "stdout",
     "output_type": "stream",
     "text": [
      "CCNOT(00) = \n",
      "\n",
      "0.0 1.0 0.0 0.0 0.0 0.0 0.0 0.0 \n",
      "1.0 0.0 0.0 0.0 0.0 0.0 0.0 0.0 \n",
      "0.0 0.0 1.0 0.0 0.0 0.0 0.0 0.0 \n",
      "0.0 0.0 0.0 1.0 0.0 0.0 0.0 0.0 \n",
      "0.0 0.0 0.0 0.0 1.0 0.0 0.0 0.0 \n",
      "0.0 0.0 0.0 0.0 0.0 1.0 0.0 0.0 \n",
      "0.0 0.0 0.0 0.0 0.0 0.0 1.0 0.0 \n",
      "0.0 0.0 0.0 0.0 0.0 0.0 0.0 1.0 \n"
     ]
    }
   ],
   "source": [
    "print(\"CCNOT(00) = \")\n",
    "print()\n",
    "for row in unitary:\n",
    "    s = ''\n",
    "    for value in row:\n",
    "        s = s + str(round(value.real, 2)) + ' '\n",
    "    print(s)"
   ]
  },
  {
   "cell_type": "markdown",
   "metadata": {},
   "source": [
    "### $ C_0C_1NOT $ Gate"
   ]
  },
  {
   "cell_type": "code",
   "execution_count": 46,
   "metadata": {},
   "outputs": [
    {
     "data": {
      "image/png": "[encoded data removed]",
      "text/plain": [
       "<Figure size 358.792x264.88 with 1 Axes>"
      ]
     },
     "execution_count": 46,
     "metadata": {},
     "output_type": "execute_result"
    }
   ],
   "source": [
    "qc = QuantumCircuit(q,c)\n",
    "qc.x(q[2])\n",
    "qc.ccx(q[2], q[1], q[0])\n",
    "qc.x(q[2])\n",
    "qc.draw('mpl', reverse_bits=True)"
   ]
  },
  {
   "cell_type": "code",
   "execution_count": 47,
   "metadata": {},
   "outputs": [],
   "source": [
    "job = execute(qc, backend, shots=1)\n",
    "unitary = job.result().get_unitary(qc)"
   ]
  },
  {
   "cell_type": "code",
   "execution_count": 48,
   "metadata": {},
   "outputs": [
    {
     "name": "stdout",
     "output_type": "stream",
     "text": [
      "CCNOT(01) = \n",
      "\n",
      "1.0 0.0 0.0 0.0 0.0 0.0 0.0 0.0 \n",
      "0.0 1.0 0.0 0.0 0.0 0.0 0.0 0.0 \n",
      "0.0 0.0 0.0 1.0 0.0 0.0 0.0 0.0 \n",
      "0.0 0.0 1.0 0.0 0.0 0.0 0.0 0.0 \n",
      "0.0 0.0 0.0 0.0 1.0 0.0 0.0 0.0 \n",
      "0.0 0.0 0.0 0.0 0.0 1.0 0.0 0.0 \n",
      "0.0 0.0 0.0 0.0 0.0 0.0 1.0 0.0 \n",
      "0.0 0.0 0.0 0.0 0.0 0.0 0.0 1.0 \n"
     ]
    }
   ],
   "source": [
    "print(\"CCNOT(01) = \")\n",
    "print()\n",
    "for row in unitary:\n",
    "    s = ''\n",
    "    for value in row:\n",
    "        s = s + str(round(value.real, 2)) + ' '\n",
    "    print(s)"
   ]
  },
  {
   "cell_type": "markdown",
   "metadata": {},
   "source": [
    "### $ C_1C_0X $ Gate"
   ]
  },
  {
   "cell_type": "code",
   "execution_count": 49,
   "metadata": {},
   "outputs": [
    {
     "data": {
      "image/png": "[encoded data removed]",
      "text/plain": [
       "<Figure size 358.792x264.88 with 1 Axes>"
      ]
     },
     "execution_count": 49,
     "metadata": {},
     "output_type": "execute_result"
    }
   ],
   "source": [
    "qc = QuantumCircuit(q,c)\n",
    "qc.x(q[1])\n",
    "qc.ccx(q[2], q[1], q[0])\n",
    "qc.x(q[1])\n",
    "qc.draw('mpl', reverse_bits=True)"
   ]
  },
  {
   "cell_type": "code",
   "execution_count": 50,
   "metadata": {},
   "outputs": [],
   "source": [
    "job = execute(qc, backend, shots=1)\n",
    "unitary = job.result().get_unitary(qc)"
   ]
  },
  {
   "cell_type": "code",
   "execution_count": 51,
   "metadata": {},
   "outputs": [
    {
     "name": "stdout",
     "output_type": "stream",
     "text": [
      "CCNOT(10) = \n",
      "\n",
      "1.0 0.0 0.0 0.0 0.0 0.0 0.0 0.0 \n",
      "0.0 1.0 0.0 0.0 0.0 0.0 0.0 0.0 \n",
      "0.0 0.0 1.0 0.0 0.0 0.0 0.0 0.0 \n",
      "0.0 0.0 0.0 1.0 0.0 0.0 0.0 0.0 \n",
      "0.0 0.0 0.0 0.0 0.0 1.0 0.0 0.0 \n",
      "0.0 0.0 0.0 0.0 1.0 0.0 0.0 0.0 \n",
      "0.0 0.0 0.0 0.0 0.0 0.0 1.0 0.0 \n",
      "0.0 0.0 0.0 0.0 0.0 0.0 0.0 1.0 \n"
     ]
    }
   ],
   "source": [
    "print(\"CCNOT(10) = \")\n",
    "print()\n",
    "for row in unitary:\n",
    "    s = ''\n",
    "    for value in row:\n",
    "        s = s + str(round(value.real, 2)) + ' '\n",
    "    print(s)"
   ]
  },
  {
   "cell_type": "markdown",
   "metadata": {},
   "source": [
    "## Task 2"
   ]
  },
  {
   "cell_type": "code",
   "execution_count": 52,
   "metadata": {},
   "outputs": [],
   "source": [
    "qaux = QuantumRegister(2, 'qaux')\n",
    "q = QuantumRegister(5, 'q')\n",
    "c = ClassicalRegister(5, 'c')\n",
    "qc = QuantumCircuit(q, qaux, c)"
   ]
  },
  {
   "cell_type": "code",
   "execution_count": 53,
   "metadata": {},
   "outputs": [
    {
     "data": {
      "image/png": "[encoded data removed]",
      "text/plain": [
       "<Figure size 511.7x505.68 with 1 Axes>"
      ]
     },
     "execution_count": 53,
     "metadata": {},
     "output_type": "execute_result"
    }
   ],
   "source": [
    "qc.ccx(q[4], q[3], qaux[1])\n",
    "qc.ccx(q[2], q[1], qaux[0])\n",
    "qc.ccx(qaux[1], qaux[0], q[0])\n",
    "qc.ccx(q[4], q[3], qaux[1])\n",
    "qc.ccx(q[2], q[1], qaux[0])\n",
    "qc.draw('mpl', reverse_bits=True)"
   ]
  },
  {
   "cell_type": "code",
   "execution_count": 54,
   "metadata": {},
   "outputs": [
    {
     "name": "stdout",
     "output_type": "stream",
     "text": [
      "['00000', '00001', '00010', '00011', '00100', '00101', '00110', '00111', '01000', '01001', '01010', '01011', '01100', '01101', '01110', '01111', '10000', '10001', '10010', '10011', '10100', '10101', '10110', '10111', '11000', '11001', '11010', '11011', '11100', '11101', '11110', '11111']\n"
     ]
    }
   ],
   "source": [
    "inputs = []\n",
    "for q4 in ['0', '1']:\n",
    "    for q3 in ['0', '1']:\n",
    "        for q2 in ['0', '1']:\n",
    "            for q1 in ['0', '1']:\n",
    "                for q0 in ['0', '1']:\n",
    "                        inputs.append(q4 + q3 + q2 + q1 + q0)\n",
    "print(inputs)"
   ]
  },
  {
   "cell_type": "code",
   "execution_count": 55,
   "metadata": {},
   "outputs": [
    {
     "name": "stdout",
     "output_type": "stream",
     "text": [
      "input ---> output\n",
      "0000 0 ---> 0000 0\n",
      "0000 1 ---> 0000 1\n",
      "0001 0 ---> 0001 0\n",
      "0001 1 ---> 0001 1\n",
      "0010 0 ---> 0010 0\n",
      "0010 1 ---> 0010 1\n",
      "0011 0 ---> 0011 0\n",
      "0011 1 ---> 0011 1\n",
      "0100 0 ---> 0100 0\n",
      "0100 1 ---> 0100 1\n",
      "0101 0 ---> 0101 0\n",
      "0101 1 ---> 0101 1\n",
      "0110 0 ---> 0110 0\n",
      "0110 1 ---> 0110 1\n",
      "0111 0 ---> 0111 0\n",
      "0111 1 ---> 0111 1\n",
      "1000 0 ---> 1000 0\n",
      "1000 1 ---> 1000 1\n",
      "1001 0 ---> 1001 0\n",
      "1001 1 ---> 1001 1\n",
      "1010 0 ---> 1010 0\n",
      "1010 1 ---> 1010 1\n",
      "1011 0 ---> 1011 0\n",
      "1011 1 ---> 1011 1\n",
      "1100 0 ---> 1100 0\n",
      "1100 1 ---> 1100 1\n",
      "1101 0 ---> 1101 0\n",
      "1101 1 ---> 1101 1\n",
      "1110 0 ---> 1110 0\n",
      "1110 1 ---> 1110 1\n",
      "1111 0 ---> 1111 1 (The output is different than the input)\n",
      "1111 1 ---> 1111 0 (The output is different than the input)\n"
     ]
    }
   ],
   "source": [
    "print('input ---> output')\n",
    "for input in inputs:\n",
    "    qaux = QuantumRegister(2, 'qaux')\n",
    "    q = QuantumRegister(5, 'q')\n",
    "    c = ClassicalRegister(5, 'c')\n",
    "    qc = QuantumCircuit(q, qaux, c)\n",
    "    \n",
    "    if input[0] == '1':\n",
    "        qc.x(q[4])\n",
    "    if input[1] == '1':\n",
    "        qc.x(q[3])\n",
    "    if input[2] == '1':\n",
    "        qc.x(q[2])\n",
    "    if input[3] == '1':\n",
    "        qc.x(q[1])\n",
    "    if input[4] == '1':\n",
    "        qc.x(q[0])\n",
    "    \n",
    "    qc.ccx(q[4], q[3], qaux[1])\n",
    "    qc.ccx(q[2], q[1], qaux[0])\n",
    "    qc.ccx(qaux[1], qaux[0], q[0])\n",
    "    qc.ccx(q[4], q[3], qaux[1])\n",
    "    qc.ccx(q[2], q[1], qaux[0])\n",
    "    \n",
    "    qc.measure(q,c)\n",
    "    \n",
    "    backend = Aer.get_backend('qasm_simulator')\n",
    "    job = execute(qc, backend, shots=1)\n",
    "    counts = job.result().get_counts(qc)\n",
    "    \n",
    "    for key in counts:\n",
    "        output = key\n",
    "        string = input[0:4] + ' ' + input[4] + ' ---> ' + output[0:4] + ' ' + output[4]\n",
    "        if (input != output):\n",
    "            string = string + ' (The output is different than the input)'\n",
    "        print(string)"
   ]
  },
  {
   "cell_type": "markdown",
   "metadata": {},
   "source": [
    "### Task 3"
   ]
  },
  {
   "cell_type": "code",
   "execution_count": 56,
   "metadata": {},
   "outputs": [],
   "source": [
    "qaux = QuantumRegister(2, 'qaux')\n",
    "q = QuantumRegister(5, 'q')\n",
    "c = ClassicalRegister(5, 'c')\n",
    "qc = QuantumCircuit(q, qaux, c)"
   ]
  },
  {
   "cell_type": "code",
   "execution_count": 57,
   "metadata": {},
   "outputs": [
    {
     "data": {
      "image/png": "[encoded data removed]",
      "text/plain": [
       "<Figure size 632.1x505.68 with 1 Axes>"
      ]
     },
     "execution_count": 57,
     "metadata": {},
     "output_type": "execute_result"
    }
   ],
   "source": [
    "qc.x(q[3])\n",
    "qc.x(q[1])\n",
    "qc.ccx(q[4], q[3], qaux[1])\n",
    "qc.ccx(q[2], q[1], qaux[0])\n",
    "qc.ccx(qaux[1], qaux[0], q[0])\n",
    "qc.ccx(q[4], q[3], qaux[1])\n",
    "qc.ccx(q[2], q[1], qaux[0])\n",
    "qc.x(q[3])\n",
    "qc.x(q[1])\n",
    "qc.draw('mpl', reverse_bits=True)"
   ]
  },
  {
   "cell_type": "code",
   "execution_count": 58,
   "metadata": {},
   "outputs": [
    {
     "name": "stdout",
     "output_type": "stream",
     "text": [
      "input ---> output\n",
      "0000 0 ---> 0000 0\n",
      "0000 1 ---> 0000 1\n",
      "0001 0 ---> 0001 0\n",
      "0001 1 ---> 0001 1\n",
      "0010 0 ---> 0010 0\n",
      "0010 1 ---> 0010 1\n",
      "0011 0 ---> 0011 0\n",
      "0011 1 ---> 0011 1\n",
      "0100 0 ---> 0100 0\n",
      "0100 1 ---> 0100 1\n",
      "0101 0 ---> 0101 0\n",
      "0101 1 ---> 0101 1\n",
      "0110 0 ---> 0110 0\n",
      "0110 1 ---> 0110 1\n",
      "0111 0 ---> 0111 0\n",
      "0111 1 ---> 0111 1\n",
      "1000 0 ---> 1000 0\n",
      "1000 1 ---> 1000 1\n",
      "1001 0 ---> 1001 0\n",
      "1001 1 ---> 1001 1\n",
      "1010 0 ---> 1010 1 (The output is different than the input)\n",
      "1010 1 ---> 1010 0 (The output is different than the input)\n",
      "1011 0 ---> 1011 0\n",
      "1011 1 ---> 1011 1\n",
      "1100 0 ---> 1100 0\n",
      "1100 1 ---> 1100 1\n",
      "1101 0 ---> 1101 0\n",
      "1101 1 ---> 1101 1\n",
      "1110 0 ---> 1110 0\n",
      "1110 1 ---> 1110 1\n",
      "1111 0 ---> 1111 0\n",
      "1111 1 ---> 1111 1\n"
     ]
    }
   ],
   "source": [
    "print('input ---> output')\n",
    "for input in inputs:\n",
    "    qaux = QuantumRegister(2, 'qaux')\n",
    "    q = QuantumRegister(5, 'q')\n",
    "    c = ClassicalRegister(5, 'c')\n",
    "    qc = QuantumCircuit(q, qaux, c)\n",
    "    \n",
    "    if input[0] == '1':\n",
    "        qc.x(q[4])\n",
    "    if input[1] == '1':\n",
    "        qc.x(q[3])\n",
    "    if input[2] == '1':\n",
    "        qc.x(q[2])\n",
    "    if input[3] == '1':\n",
    "        qc.x(q[1])\n",
    "    if input[4] == '1':\n",
    "        qc.x(q[0])\n",
    "    \n",
    "    qc.x(q[3])\n",
    "    qc.x(q[1])\n",
    "    qc.ccx(q[4], q[3], qaux[1])\n",
    "    qc.ccx(q[2], q[1], qaux[0])\n",
    "    qc.ccx(qaux[1], qaux[0], q[0])\n",
    "    qc.ccx(q[4], q[3], qaux[1])\n",
    "    qc.ccx(q[2], q[1], qaux[0])\n",
    "    qc.x(q[3])\n",
    "    qc.x(q[1])\n",
    "    \n",
    "    qc.measure(q,c)\n",
    "    \n",
    "    backend = Aer.get_backend('qasm_simulator')\n",
    "    job = execute(qc, backend, shots=1)\n",
    "    counts = job.result().get_counts(qc)\n",
    "    \n",
    "    for key in counts:\n",
    "        output = key\n",
    "        string = input[0:4] + ' ' + input[4] + ' ---> ' + output[0:4] + ' ' + output[4]\n",
    "        if (input != output):\n",
    "            string = string + ' (The output is different than the input)'\n",
    "        print(string)"
   ]
  },
  {
   "cell_type": "code",
   "execution_count": null,
   "metadata": {},
   "outputs": [],
   "source": []
  }
 ],
 "metadata": {
  "kernelspec": {
   "display_name": "Python 3",
   "language": "python",
   "name": "python3"
  },
  "language_info": {
   "codemirror_mode": {
    "name": "ipython",
    "version": 3
   },
   "file_extension": ".py",
   "mimetype": "text/x-python",
   "name": "python",
   "nbconvert_exporter": "python",
   "pygments_lexer": "ipython3",
   "version": "3.8.3"
  }
 },
 "nbformat": 4,
 "nbformat_minor": 4
}
