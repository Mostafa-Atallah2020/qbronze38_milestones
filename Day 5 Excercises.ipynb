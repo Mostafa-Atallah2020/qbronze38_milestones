{
 "cells": [
  {
   "cell_type": "markdown",
   "metadata": {},
   "source": [
    "# Inversion About the Mean"
   ]
  },
  {
   "cell_type": "markdown",
   "metadata": {},
   "source": [
    "## Task 1"
   ]
  },
  {
   "cell_type": "code",
   "execution_count": 2,
   "metadata": {},
   "outputs": [
    {
     "data": {
      "text/plain": [
       "<BarContainer object of 8 artists>"
      ]
     },
     "execution_count": 2,
     "metadata": {},
     "output_type": "execute_result"
    },
    {
     "data": {
      "image/png": "[encoded data removed]",
      "text/plain": [
       "<Figure size 432x288 with 1 Axes>"
      ]
     },
     "metadata": {
      "needs_background": "light"
     },
     "output_type": "display_data"
    }
   ],
   "source": [
    "import matplotlib.pyplot as plt\n",
    "\n",
    "labels = []\n",
    "elements = []\n",
    "for i in range(8):\n",
    "    labels = labels + [i+1]\n",
    "    elements  = elements + [1]\n",
    "\n",
    "# visualize the values of elements in the list \n",
    "plt.bar(labels,elements)"
   ]
  },
  {
   "cell_type": "markdown",
   "metadata": {},
   "source": [
    "### 1st step - query phase:"
   ]
  },
  {
   "cell_type": "code",
   "execution_count": 3,
   "metadata": {},
   "outputs": [
    {
     "data": {
      "text/plain": [
       "<BarContainer object of 8 artists>"
      ]
     },
     "execution_count": 3,
     "metadata": {},
     "output_type": "execute_result"
    },
    {
     "data": {
      "image/png": "[encoded data removed]",
      "text/plain": [
       "<Figure size 432x288 with 1 Axes>"
      ]
     },
     "metadata": {
      "needs_background": "light"
     },
     "output_type": "display_data"
    }
   ],
   "source": [
    "elements[3] = -elements[3]\n",
    "plt.bar(labels,elements)"
   ]
  },
  {
   "cell_type": "markdown",
   "metadata": {},
   "source": [
    "### 1st step - inversion phase:\n"
   ]
  },
  {
   "cell_type": "code",
   "execution_count": 4,
   "metadata": {},
   "outputs": [],
   "source": [
    "sum = 0\n",
    "for i in range(len(elements)):\n",
    "    sum += elements[i]"
   ]
  },
  {
   "cell_type": "code",
   "execution_count": 5,
   "metadata": {},
   "outputs": [],
   "source": [
    "mean = sum/len(elements)"
   ]
  },
  {
   "cell_type": "code",
   "execution_count": 6,
   "metadata": {},
   "outputs": [],
   "source": [
    "for i in range(len(elements)):\n",
    "    val = elements[i]\n",
    "    new_val = mean - (elements[i] - mean)\n",
    "    elements[i] = new_val"
   ]
  },
  {
   "cell_type": "code",
   "execution_count": 7,
   "metadata": {},
   "outputs": [
    {
     "data": {
      "text/plain": [
       "<BarContainer object of 8 artists>"
      ]
     },
     "execution_count": 7,
     "metadata": {},
     "output_type": "execute_result"
    },
    {
     "data": {
      "image/png": "[encoded data removed]",
      "text/plain": [
       "<Figure size 432x288 with 1 Axes>"
      ]
     },
     "metadata": {
      "needs_background": "light"
     },
     "output_type": "display_data"
    }
   ],
   "source": [
    "plt.bar(labels, elements)"
   ]
  },
  {
   "cell_type": "markdown",
   "metadata": {},
   "source": [
    "### 2nd step - query phase:"
   ]
  },
  {
   "cell_type": "code",
   "execution_count": 8,
   "metadata": {},
   "outputs": [
    {
     "data": {
      "text/plain": [
       "<BarContainer object of 8 artists>"
      ]
     },
     "execution_count": 8,
     "metadata": {},
     "output_type": "execute_result"
    },
    {
     "data": {
      "image/png": "[encoded data removed]",
      "text/plain": [
       "<Figure size 432x288 with 1 Axes>"
      ]
     },
     "metadata": {
      "needs_background": "light"
     },
     "output_type": "display_data"
    }
   ],
   "source": [
    "elements[3] = -elements[3]\n",
    "plt.bar(labels,elements)"
   ]
  },
  {
   "cell_type": "markdown",
   "metadata": {},
   "source": [
    "### 2nd step - inversion phase:"
   ]
  },
  {
   "cell_type": "code",
   "execution_count": 9,
   "metadata": {},
   "outputs": [],
   "source": [
    "sum = 0\n",
    "for i in range(len(elements)):\n",
    "    sum += elements[i]"
   ]
  },
  {
   "cell_type": "code",
   "execution_count": 10,
   "metadata": {},
   "outputs": [],
   "source": [
    "mean = sum/len(elements)"
   ]
  },
  {
   "cell_type": "code",
   "execution_count": 11,
   "metadata": {},
   "outputs": [],
   "source": [
    "for i in range(len(elements)):\n",
    "    val = elements[i]\n",
    "    new_val = mean - (elements[i] - mean)\n",
    "    elements[i] = new_val"
   ]
  },
  {
   "cell_type": "code",
   "execution_count": 12,
   "metadata": {},
   "outputs": [
    {
     "data": {
      "text/plain": [
       "<BarContainer object of 8 artists>"
      ]
     },
     "execution_count": 12,
     "metadata": {},
     "output_type": "execute_result"
    },
    {
     "data": {
      "image/png": "[encoded data removed]",
      "text/plain": [
       "<Figure size 432x288 with 1 Axes>"
      ]
     },
     "metadata": {
      "needs_background": "light"
     },
     "output_type": "display_data"
    }
   ],
   "source": [
    "plt.bar(labels, elements)"
   ]
  },
  {
   "cell_type": "markdown",
   "metadata": {},
   "source": [
    "### 3 more iterations"
   ]
  },
  {
   "cell_type": "code",
   "execution_count": 13,
   "metadata": {},
   "outputs": [],
   "source": [
    "for i in range(3):\n",
    "    elements[3] = -elements[3]\n",
    "    \n",
    "    sum = 0\n",
    "    for i in range(len(elements)):\n",
    "        sum += elements[i]\n",
    "        \n",
    "    mean = sum / len(elements)\n",
    "    \n",
    "    for i in range(len(elements)):\n",
    "        val = elements[i]\n",
    "        new_val = mean - (elements[i] - mean)\n",
    "        elements[i] = new_val"
   ]
  },
  {
   "cell_type": "code",
   "execution_count": 14,
   "metadata": {},
   "outputs": [
    {
     "data": {
      "text/plain": [
       "<BarContainer object of 8 artists>"
      ]
     },
     "execution_count": 14,
     "metadata": {},
     "output_type": "execute_result"
    },
    {
     "data": {
      "image/png": "[encoded data removed]",
      "text/plain": [
       "<Figure size 432x288 with 1 Axes>"
      ]
     },
     "metadata": {
      "needs_background": "light"
     },
     "output_type": "display_data"
    }
   ],
   "source": [
    "plt.bar(labels, elements)"
   ]
  },
  {
   "cell_type": "markdown",
   "metadata": {},
   "source": [
    "## Task 2"
   ]
  },
  {
   "cell_type": "code",
   "execution_count": 15,
   "metadata": {},
   "outputs": [],
   "source": [
    "def query(elements=[1], marked_elements=[0]):\n",
    "    for i in marked_elements:\n",
    "        elements[i] = -elements[i]\n",
    "    return elements"
   ]
  },
  {
   "cell_type": "code",
   "execution_count": 33,
   "metadata": {},
   "outputs": [],
   "source": [
    "def inversion(elements=[1]):\n",
    "    sum = 0\n",
    "    for i in range(len(elements)):\n",
    "        sum += elements[i]\n",
    "    \n",
    "    mean = sum / len(elements)\n",
    "    \n",
    "    for i in range(len(elements)):\n",
    "        val = elements[i]\n",
    "        new_val = mean - (elements[i] - mean)\n",
    "        elements[i] = new_val\n",
    "        \n",
    "    return elements"
   ]
  },
  {
   "cell_type": "code",
   "execution_count": 34,
   "metadata": {},
   "outputs": [],
   "source": [
    "elements = [1,1,1,1,1,1,1,1]\n",
    "marked_elements = [1]"
   ]
  },
  {
   "cell_type": "code",
   "execution_count": 35,
   "metadata": {},
   "outputs": [],
   "source": [
    "iterations = []\n",
    "storing_lst = []"
   ]
  },
  {
   "cell_type": "code",
   "execution_count": 36,
   "metadata": {},
   "outputs": [],
   "source": [
    "iterations.append(0)\n",
    "storing_lst.append(elements[marked_elements[0]])"
   ]
  },
  {
   "cell_type": "code",
   "execution_count": 37,
   "metadata": {},
   "outputs": [],
   "source": [
    "for step in range(20):\n",
    "    iterations.append(step+1)\n",
    "    \n",
    "    elements = query(elements, marked_elements)\n",
    "    elements = inversion(elements)\n",
    "    \n",
    "    storing_lst.append(elements[marked_elements[0]])"
   ]
  },
  {
   "cell_type": "code",
   "execution_count": 38,
   "metadata": {},
   "outputs": [
    {
     "data": {
      "text/plain": [
       "<BarContainer object of 21 artists>"
      ]
     },
     "execution_count": 38,
     "metadata": {},
     "output_type": "execute_result"
    },
    {
     "data": {
      "image/png": "[encoded data removed]",
      "text/plain": [
       "<Figure size 432x288 with 1 Axes>"
      ]
     },
     "metadata": {
      "needs_background": "light"
     },
     "output_type": "display_data"
    }
   ],
   "source": [
    "plt.bar(iterations, storing_lst)"
   ]
  },
  {
   "cell_type": "code",
   "execution_count": 39,
   "metadata": {},
   "outputs": [
    {
     "name": "stdout",
     "output_type": "stream",
     "text": [
      "[0, 1, 2, 3, 4, 5, 6, 7, 8, 9, 10, 11, 12, 13, 14, 15, 16, 17, 18, 19, 20]\n",
      "[1, 2.5, 2.75, 1.625, -0.3125, -2.09375, -2.828125, -2.1484375, -0.39453125, 1.556640625, 2.7294921875, 2.53759765625, 1.076904296875, -0.9222412109375, -2.46026611328125, -2.768157958984375, -1.6919708251953125, 0.23020172119140625, 2.037273406982422, 2.8257083892822266, 2.201289176940918]\n"
     ]
    }
   ],
   "source": [
    "print(iterations)\n",
    "print(storing_lst)"
   ]
  },
  {
   "cell_type": "markdown",
   "metadata": {},
   "source": [
    "## Task 3"
   ]
  },
  {
   "cell_type": "code",
   "execution_count": 40,
   "metadata": {},
   "outputs": [],
   "source": [
    "N = 16\n",
    "elements = []\n",
    "for i in range(N):\n",
    "    elements += [1]\n",
    "marked_elements = [10]"
   ]
  },
  {
   "cell_type": "code",
   "execution_count": 41,
   "metadata": {},
   "outputs": [],
   "source": [
    "iterations = []\n",
    "storing_lst = []"
   ]
  },
  {
   "cell_type": "code",
   "execution_count": 42,
   "metadata": {},
   "outputs": [],
   "source": [
    "iterations.append(0)\n",
    "storing_lst.append(elements[marked_elements[0]])"
   ]
  },
  {
   "cell_type": "code",
   "execution_count": 43,
   "metadata": {},
   "outputs": [],
   "source": [
    "for step in range(20):\n",
    "    iterations.append(step+1)\n",
    "    \n",
    "    elements = query(elements, marked_elements)\n",
    "    elements = inversion(elements)\n",
    "    \n",
    "    storing_lst.append(elements[marked_elements[0]])"
   ]
  },
  {
   "cell_type": "code",
   "execution_count": 44,
   "metadata": {},
   "outputs": [
    {
     "data": {
      "text/plain": [
       "<BarContainer object of 21 artists>"
      ]
     },
     "execution_count": 44,
     "metadata": {},
     "output_type": "execute_result"
    },
    {
     "data": {
      "image/png": "[encoded data removed]",
      "text/plain": [
       "<Figure size 432x288 with 1 Axes>"
      ]
     },
     "metadata": {
      "needs_background": "light"
     },
     "output_type": "display_data"
    }
   ],
   "source": [
    "plt.bar(iterations, storing_lst)"
   ]
  },
  {
   "cell_type": "code",
   "execution_count": 45,
   "metadata": {},
   "outputs": [
    {
     "name": "stdout",
     "output_type": "stream",
     "text": [
      "[0, 1, 2, 3, 4, 5, 6, 7, 8, 9, 10, 11, 12, 13, 14, 15, 16, 17, 18, 19, 20]\n",
      "[1, 2.75, 3.8125, 3.921875, 3.05078125, 1.4169921875, -0.571044921875, -2.41632080078125, -3.6575164794921875, -3.984333038330078, -3.315066337585449, -1.817033052444458, 0.1352584958076477, 2.0537354201078415, 3.458778489381075, 3.9991269363090396, 3.5396936491597444, 2.195336949720513, 0.3021460128511535, -1.6665814272309944, -3.218663510505394]\n"
     ]
    }
   ],
   "source": [
    "print(iterations)\n",
    "print(storing_lst)"
   ]
  },
  {
   "cell_type": "markdown",
   "metadata": {},
   "source": [
    "## Task 4"
   ]
  },
  {
   "cell_type": "code",
   "execution_count": 46,
   "metadata": {},
   "outputs": [],
   "source": [
    "N = 16\n",
    "elements = []\n",
    "for i in range(N):\n",
    "    elements += [1]\n",
    "marked_elements = [5,8,10]"
   ]
  },
  {
   "cell_type": "code",
   "execution_count": 47,
   "metadata": {},
   "outputs": [],
   "source": [
    "iterations = []\n",
    "storing_lst = []"
   ]
  },
  {
   "cell_type": "code",
   "execution_count": 48,
   "metadata": {},
   "outputs": [],
   "source": [
    "iterations.append(0)\n",
    "storing_lst.append(elements[marked_elements[0]])"
   ]
  },
  {
   "cell_type": "code",
   "execution_count": 49,
   "metadata": {},
   "outputs": [],
   "source": [
    "for step in range(20):\n",
    "    iterations.append(step+1)\n",
    "    \n",
    "    elements = query(elements, marked_elements)\n",
    "    elements = inversion(elements)\n",
    "    \n",
    "    storing_lst.append(elements[marked_elements[0]])"
   ]
  },
  {
   "cell_type": "code",
   "execution_count": 50,
   "metadata": {},
   "outputs": [
    {
     "data": {
      "text/plain": [
       "<BarContainer object of 21 artists>"
      ]
     },
     "execution_count": 50,
     "metadata": {},
     "output_type": "execute_result"
    },
    {
     "data": {
      "image/png": "[encoded data removed]",
      "text/plain": [
       "<Figure size 432x288 with 1 Axes>"
      ]
     },
     "metadata": {
      "needs_background": "light"
     },
     "output_type": "display_data"
    }
   ],
   "source": [
    "plt.bar(iterations, storing_lst)"
   ]
  },
  {
   "cell_type": "code",
   "execution_count": 51,
   "metadata": {},
   "outputs": [
    {
     "name": "stdout",
     "output_type": "stream",
     "text": [
      "[0, 1, 2, 3, 4, 5, 6, 7, 8, 9, 10, 11, 12, 13, 14, 15, 16, 17, 18, 19, 20]\n",
      "[1, 2.25, 1.8125, 0.015625, -1.79296875, -2.2568359375, -1.028076171875, 0.97174072265625, 2.2427520751953125, 1.8316993713378906, 0.04687213897705078, -1.7731091976165771, -2.263258635997772, -1.0559640973806381, 0.9433035142719746, 2.2350934902206063, 1.8505633485037833, 0.07811069540912285, -1.7529249792423798, -2.2692669194620976, -1.0836586700852422]\n"
     ]
    }
   ],
   "source": [
    "print(iterations)\n",
    "print(storing_lst)"
   ]
  },
  {
   "cell_type": "code",
   "execution_count": 55,
   "metadata": {},
   "outputs": [],
   "source": [
    "import numpy as np\n",
    "def lst_len(elements=[1]):\n",
    "    sum = 0\n",
    "    for element in elements:\n",
    "        sum += element**2\n",
    "    result = np.sqrt(sum)\n",
    "    return round(result, 3)"
   ]
  },
  {
   "cell_type": "code",
   "execution_count": 56,
   "metadata": {},
   "outputs": [],
   "source": [
    "N = 16\n",
    "elements = []\n",
    "for i in range(N):\n",
    "    elements += [1]\n",
    "    \n",
    "marked_elements = [0,1,2,3]"
   ]
  },
  {
   "cell_type": "code",
   "execution_count": 57,
   "metadata": {},
   "outputs": [
    {
     "name": "stdout",
     "output_type": "stream",
     "text": [
      "The initial length: 4.0\n"
     ]
    }
   ],
   "source": [
    "print('The initial length:', lst_len(elements))"
   ]
  },
  {
   "cell_type": "code",
   "execution_count": 59,
   "metadata": {},
   "outputs": [
    {
     "name": "stdout",
     "output_type": "stream",
     "text": [
      "step 0 the length after query 4.0\n",
      "step 0 the length after query 4.0\n",
      "step 1 the length after query 4.0\n",
      "step 1 the length after query 4.0\n",
      "step 2 the length after query 4.0\n",
      "step 2 the length after query 4.0\n",
      "step 3 the length after query 4.0\n",
      "step 3 the length after query 4.0\n",
      "step 4 the length after query 4.0\n",
      "step 4 the length after query 4.0\n",
      "step 5 the length after query 4.0\n",
      "step 5 the length after query 4.0\n",
      "step 6 the length after query 4.0\n",
      "step 6 the length after query 4.0\n",
      "step 7 the length after query 4.0\n",
      "step 7 the length after query 4.0\n",
      "step 8 the length after query 4.0\n",
      "step 8 the length after query 4.0\n",
      "step 9 the length after query 4.0\n",
      "step 9 the length after query 4.0\n",
      "step 10 the length after query 4.0\n",
      "step 10 the length after query 4.0\n",
      "step 11 the length after query 4.0\n",
      "step 11 the length after query 4.0\n",
      "step 12 the length after query 4.0\n",
      "step 12 the length after query 4.0\n",
      "step 13 the length after query 4.0\n",
      "step 13 the length after query 4.0\n",
      "step 14 the length after query 4.0\n",
      "step 14 the length after query 4.0\n",
      "step 15 the length after query 4.0\n",
      "step 15 the length after query 4.0\n",
      "step 16 the length after query 4.0\n",
      "step 16 the length after query 4.0\n",
      "step 17 the length after query 4.0\n",
      "step 17 the length after query 4.0\n",
      "step 18 the length after query 4.0\n",
      "step 18 the length after query 4.0\n",
      "step 19 the length after query 4.0\n",
      "step 19 the length after query 4.0\n"
     ]
    }
   ],
   "source": [
    "for step in range(20):\n",
    "    iterations.append(step+1)\n",
    "    elements = query(elements, marked_elements)\n",
    "    print('step', step, 'the length after query', lst_len(elements))\n",
    "    elements = inversion(elements)\n",
    "    print('step', step, 'the length after query', lst_len(elements))"
   ]
  },
  {
   "cell_type": "markdown",
   "metadata": {},
   "source": [
    "## Task 6"
   ]
  },
  {
   "cell_type": "code",
   "execution_count": 60,
   "metadata": {},
   "outputs": [],
   "source": [
    "N = 10\n",
    "elements = []\n",
    "for i in range(N):\n",
    "    elements += [1]\n",
    "marked_elements = [9]"
   ]
  },
  {
   "cell_type": "code",
   "execution_count": 61,
   "metadata": {},
   "outputs": [
    {
     "name": "stdout",
     "output_type": "stream",
     "text": [
      "The initial length: 3.162\n"
     ]
    }
   ],
   "source": [
    "print('The initial length:', lst_len(elements))"
   ]
  },
  {
   "cell_type": "code",
   "execution_count": 62,
   "metadata": {},
   "outputs": [
    {
     "name": "stdout",
     "output_type": "stream",
     "text": [
      "step 0 the length after query 3.162\n",
      "step 0 the length after query 3.162\n",
      "step 1 the length after query 3.162\n",
      "step 1 the length after query 3.162\n",
      "step 2 the length after query 3.162\n",
      "step 2 the length after query 3.162\n",
      "step 3 the length after query 3.162\n",
      "step 3 the length after query 3.162\n",
      "step 4 the length after query 3.162\n",
      "step 4 the length after query 3.162\n",
      "step 5 the length after query 3.162\n",
      "step 5 the length after query 3.162\n",
      "step 6 the length after query 3.162\n",
      "step 6 the length after query 3.162\n",
      "step 7 the length after query 3.162\n",
      "step 7 the length after query 3.162\n",
      "step 8 the length after query 3.162\n",
      "step 8 the length after query 3.162\n",
      "step 9 the length after query 3.162\n",
      "step 9 the length after query 3.162\n",
      "step 10 the length after query 3.162\n",
      "step 10 the length after query 3.162\n",
      "step 11 the length after query 3.162\n",
      "step 11 the length after query 3.162\n",
      "step 12 the length after query 3.162\n",
      "step 12 the length after query 3.162\n",
      "step 13 the length after query 3.162\n",
      "step 13 the length after query 3.162\n",
      "step 14 the length after query 3.162\n",
      "step 14 the length after query 3.162\n",
      "step 15 the length after query 3.162\n",
      "step 15 the length after query 3.162\n",
      "step 16 the length after query 3.162\n",
      "step 16 the length after query 3.162\n",
      "step 17 the length after query 3.162\n",
      "step 17 the length after query 3.162\n",
      "step 18 the length after query 3.162\n",
      "step 18 the length after query 3.162\n",
      "step 19 the length after query 3.162\n",
      "step 19 the length after query 3.162\n"
     ]
    }
   ],
   "source": [
    "for step in range(20):\n",
    "    iterations.append(step+1)\n",
    "    elements = query(elements, marked_elements)\n",
    "    print('step', step, 'the length after query', lst_len(elements))\n",
    "    elements = inversion(elements)\n",
    "    print('step', step, 'the length after query', lst_len(elements))"
   ]
  },
  {
   "cell_type": "markdown",
   "metadata": {},
   "source": [
    "## Task 7"
   ]
  },
  {
   "cell_type": "markdown",
   "metadata": {},
   "source": [
    "The list at the beginnig"
   ]
  },
  {
   "cell_type": "markdown",
   "metadata": {},
   "source": [
    "lst = [a,a,a,a,a,a,a,a]"
   ]
  },
  {
   "cell_type": "markdown",
   "metadata": {},
   "source": [
    "The length of the list"
   ]
  },
  {
   "cell_type": "markdown",
   "metadata": {},
   "source": [
    "$$\n",
    "L = \\sqrt{\\sum_{i=1}^{8} a^2} = \\sqrt{8a^2} = \\sqrt{8}a\n",
    "$$"
   ]
  },
  {
   "cell_type": "markdown",
   "metadata": {},
   "source": [
    "The corresponding quantum state"
   ]
  },
  {
   "cell_type": "markdown",
   "metadata": {},
   "source": [
    "$$\n",
    "|\\psi\\rangle = \n",
    "\\begin{pmatrix}\n",
    "a \\\\\n",
    "a \\\\\n",
    "a \\\\\n",
    "a \\\\\n",
    "a \\\\\n",
    "a \\\\\n",
    "a \\\\\n",
    "a \n",
    "\\end{pmatrix}\n",
    "$$"
   ]
  },
  {
   "cell_type": "markdown",
   "metadata": {},
   "source": [
    "The length of $|\\psi\\rangle$"
   ]
  },
  {
   "cell_type": "markdown",
   "metadata": {},
   "source": [
    "$$\n",
    "\\langle \\psi | \\psi \\rangle = \\sum_{i=1}^{8} a^2 = 8a^2 = 1 \\Leftrightarrow a = \\frac{1}{2\\sqrt{2}}\n",
    "$$"
   ]
  },
  {
   "cell_type": "markdown",
   "metadata": {},
   "source": [
    "## Task 8"
   ]
  },
  {
   "cell_type": "code",
   "execution_count": 85,
   "metadata": {},
   "outputs": [],
   "source": [
    "def print_lst(list, precision):\n",
    "    output = ''\n",
    "    for i in range(len(list)):\n",
    "        output = output + str(round(list[i], precision)) + ' '\n",
    "    print(output)"
   ]
  },
  {
   "cell_type": "code",
   "execution_count": 86,
   "metadata": {},
   "outputs": [],
   "source": [
    "N = 8\n",
    "elements = []\n",
    "for i in range(N):\n",
    "    elements += [1/np.sqrt(8)]\n",
    "marked_elements = [1]"
   ]
  },
  {
   "cell_type": "code",
   "execution_count": 88,
   "metadata": {},
   "outputs": [
    {
     "name": "stdout",
     "output_type": "stream",
     "text": [
      "# Step 0:\n",
      "The list of elements:\n",
      "0.354 0.354 0.354 0.354 0.354 0.354 0.354 0.354 \n",
      "The initial length: 1.0\n"
     ]
    }
   ],
   "source": [
    "print('# Step 0:')\n",
    "print('The list of elements:')\n",
    "print_lst(elements, 3)\n",
    "print('The initial length:', lst_len(elements))"
   ]
  },
  {
   "cell_type": "code",
   "execution_count": 93,
   "metadata": {},
   "outputs": [
    {
     "name": "stdout",
     "output_type": "stream",
     "text": [
      "# After step 1 :\n",
      "The list of elements:\n",
      "0.338 0.449 0.338 0.338 0.338 0.338 0.338 0.338 \n",
      "The length after iteration: 1.0\n",
      "------------------------------------------------------------------- \n",
      "# After step 2 :\n",
      "The list of elements:\n",
      "0.141 0.928 0.141 0.141 0.141 0.141 0.141 0.141 \n",
      "The length after iteration: 1.0\n",
      "------------------------------------------------------------------- \n",
      "# After step 3 :\n",
      "The list of elements:\n",
      "-0.126 0.943 -0.126 -0.126 -0.126 -0.126 -0.126 -0.126 \n",
      "The length after iteration: 1.0\n",
      "------------------------------------------------------------------- \n",
      "# After step 4 :\n",
      "The list of elements:\n",
      "-0.33 0.486 -0.33 -0.33 -0.33 -0.33 -0.33 -0.33 \n",
      "The length after iteration: 1.0\n",
      "------------------------------------------------------------------- \n",
      "# After step 5 :\n",
      "The list of elements:\n",
      "-0.369 -0.214 -0.369 -0.369 -0.369 -0.369 -0.369 -0.369 \n",
      "The length after iteration: 1.0\n",
      "------------------------------------------------------------------- \n",
      "# After step 6 :\n",
      "The list of elements:\n",
      "-0.224 -0.806 -0.224 -0.224 -0.224 -0.224 -0.224 -0.224 \n",
      "The length after iteration: 1.0\n",
      "------------------------------------------------------------------- \n",
      "# After step 7 :\n",
      "The list of elements:\n",
      "0.034 -0.996 0.034 0.034 0.034 0.034 0.034 0.034 \n",
      "The length after iteration: 1.0\n",
      "------------------------------------------------------------------- \n",
      "# After step 8 :\n",
      "The list of elements:\n",
      "0.274 -0.688 0.274 0.274 0.274 0.274 0.274 0.274 \n",
      "The length after iteration: 1.0\n",
      "------------------------------------------------------------------- \n",
      "# After step 9 :\n",
      "The list of elements:\n",
      "0.378 -0.035 0.378 0.378 0.378 0.378 0.378 0.378 \n",
      "The length after iteration: 1.0\n",
      "------------------------------------------------------------------- \n",
      "# After step 10 :\n",
      "The list of elements:\n",
      "0.292 0.634 0.292 0.292 0.292 0.292 0.292 0.292 \n",
      "The length after iteration: 1.0\n",
      "------------------------------------------------------------------- \n",
      "# After step 11 :\n",
      "The list of elements:\n",
      "0.061 0.987 0.061 0.061 0.061 0.061 0.061 0.061 \n",
      "The length after iteration: 1.0\n",
      "------------------------------------------------------------------- \n",
      "# After step 12 :\n",
      "The list of elements:\n",
      "-0.201 0.846 -0.201 -0.201 -0.201 -0.201 -0.201 -0.201 \n",
      "The length after iteration: 1.0\n",
      "------------------------------------------------------------------- \n",
      "# After step 13 :\n",
      "The list of elements:\n",
      "-0.363 0.282 -0.363 -0.363 -0.363 -0.363 -0.363 -0.363 \n",
      "The length after iteration: 1.0\n",
      "------------------------------------------------------------------- \n",
      "# After step 14 :\n",
      "The list of elements:\n",
      "-0.343 -0.423 -0.343 -0.343 -0.343 -0.343 -0.343 -0.343 \n",
      "The length after iteration: 1.0\n",
      "------------------------------------------------------------------- \n",
      "# After step 15 :\n",
      "The list of elements:\n",
      "-0.151 -0.917 -0.151 -0.151 -0.151 -0.151 -0.151 -0.151 \n",
      "The length after iteration: 1.0\n",
      "------------------------------------------------------------------- \n",
      "# After step 16 :\n",
      "The list of elements:\n",
      "0.116 -0.952 0.116 0.116 0.116 0.116 0.116 0.116 \n",
      "The length after iteration: 1.0\n",
      "------------------------------------------------------------------- \n",
      "# After step 17 :\n",
      "The list of elements:\n",
      "0.325 -0.511 0.325 0.325 0.325 0.325 0.325 0.325 \n",
      "The length after iteration: 1.0\n",
      "------------------------------------------------------------------- \n",
      "# After step 18 :\n",
      "The list of elements:\n",
      "0.371 0.185 0.371 0.371 0.371 0.371 0.371 0.371 \n",
      "The length after iteration: 1.0\n",
      "------------------------------------------------------------------- \n",
      "# After step 19 :\n",
      "The list of elements:\n",
      "0.232 0.789 0.232 0.232 0.232 0.232 0.232 0.232 \n",
      "The length after iteration: 1.0\n",
      "------------------------------------------------------------------- \n",
      "# After step 20 :\n",
      "The list of elements:\n",
      "-0.023 0.998 -0.023 -0.023 -0.023 -0.023 -0.023 -0.023 \n",
      "The length after iteration: 1.0\n",
      "------------------------------------------------------------------- \n"
     ]
    }
   ],
   "source": [
    "for step in range(20):\n",
    "    iterations.append(step+1)\n",
    "    \n",
    "    elements = query(elements, marked_elements)\n",
    "    elements = inversion(elements)\n",
    "    \n",
    "    print('# After step', step+1,':')\n",
    "    print('The list of elements:')\n",
    "    print_lst(elements, 3)\n",
    "    print('The length after iteration:', lst_len(elements))\n",
    "    print('------------------------------------------------------------------- ')"
   ]
  },
  {
   "cell_type": "markdown",
   "metadata": {},
   "source": [
    "## Task 9"
   ]
  },
  {
   "cell_type": "code",
   "execution_count": 94,
   "metadata": {},
   "outputs": [],
   "source": [
    "N = 16\n",
    "elements = []\n",
    "for i in range(N):\n",
    "    elements += [1/np.sqrt(N)]\n",
    "marked_elements = range(12)"
   ]
  },
  {
   "cell_type": "code",
   "execution_count": 96,
   "metadata": {},
   "outputs": [
    {
     "name": "stdout",
     "output_type": "stream",
     "text": [
      "# Step 0:\n",
      "The list of elements:\n",
      "0.25 0.25 0.25 0.25 0.25 0.25 0.25 0.25 0.25 0.25 0.25 0.25 0.25 0.25 0.25 0.25 \n",
      "The initial length: 1.0\n"
     ]
    }
   ],
   "source": [
    "print('# Step 0:')\n",
    "print('The list of elements:')\n",
    "print_lst(elements, 3)\n",
    "print('The initial length:', lst_len(elements))"
   ]
  },
  {
   "cell_type": "code",
   "execution_count": 97,
   "metadata": {},
   "outputs": [
    {
     "name": "stdout",
     "output_type": "stream",
     "text": [
      "# After step 1 :\n",
      "The list of elements:\n",
      "0.0 0.0 0.0 0.0 0.0 0.0 0.0 0.0 0.0 0.0 0.0 0.0 -0.5 -0.5 -0.5 -0.5 \n",
      "The length after iteration: 1.0\n",
      "------------------------------------------------------------------- \n",
      "# After step 2 :\n",
      "The list of elements:\n",
      "-0.25 -0.25 -0.25 -0.25 -0.25 -0.25 -0.25 -0.25 -0.25 -0.25 -0.25 -0.25 0.25 0.25 0.25 0.25 \n",
      "The length after iteration: 1.0\n",
      "------------------------------------------------------------------- \n",
      "# After step 3 :\n",
      "The list of elements:\n",
      "0.25 0.25 0.25 0.25 0.25 0.25 0.25 0.25 0.25 0.25 0.25 0.25 0.25 0.25 0.25 0.25 \n",
      "The length after iteration: 1.0\n",
      "------------------------------------------------------------------- \n",
      "# After step 4 :\n",
      "The list of elements:\n",
      "0.0 0.0 0.0 0.0 0.0 0.0 0.0 0.0 0.0 0.0 0.0 0.0 -0.5 -0.5 -0.5 -0.5 \n",
      "The length after iteration: 1.0\n",
      "------------------------------------------------------------------- \n",
      "# After step 5 :\n",
      "The list of elements:\n",
      "-0.25 -0.25 -0.25 -0.25 -0.25 -0.25 -0.25 -0.25 -0.25 -0.25 -0.25 -0.25 0.25 0.25 0.25 0.25 \n",
      "The length after iteration: 1.0\n",
      "------------------------------------------------------------------- \n",
      "# After step 6 :\n",
      "The list of elements:\n",
      "0.25 0.25 0.25 0.25 0.25 0.25 0.25 0.25 0.25 0.25 0.25 0.25 0.25 0.25 0.25 0.25 \n",
      "The length after iteration: 1.0\n",
      "------------------------------------------------------------------- \n",
      "# After step 7 :\n",
      "The list of elements:\n",
      "0.0 0.0 0.0 0.0 0.0 0.0 0.0 0.0 0.0 0.0 0.0 0.0 -0.5 -0.5 -0.5 -0.5 \n",
      "The length after iteration: 1.0\n",
      "------------------------------------------------------------------- \n",
      "# After step 8 :\n",
      "The list of elements:\n",
      "-0.25 -0.25 -0.25 -0.25 -0.25 -0.25 -0.25 -0.25 -0.25 -0.25 -0.25 -0.25 0.25 0.25 0.25 0.25 \n",
      "The length after iteration: 1.0\n",
      "------------------------------------------------------------------- \n",
      "# After step 9 :\n",
      "The list of elements:\n",
      "0.25 0.25 0.25 0.25 0.25 0.25 0.25 0.25 0.25 0.25 0.25 0.25 0.25 0.25 0.25 0.25 \n",
      "The length after iteration: 1.0\n",
      "------------------------------------------------------------------- \n",
      "# After step 10 :\n",
      "The list of elements:\n",
      "0.0 0.0 0.0 0.0 0.0 0.0 0.0 0.0 0.0 0.0 0.0 0.0 -0.5 -0.5 -0.5 -0.5 \n",
      "The length after iteration: 1.0\n",
      "------------------------------------------------------------------- \n",
      "# After step 11 :\n",
      "The list of elements:\n",
      "-0.25 -0.25 -0.25 -0.25 -0.25 -0.25 -0.25 -0.25 -0.25 -0.25 -0.25 -0.25 0.25 0.25 0.25 0.25 \n",
      "The length after iteration: 1.0\n",
      "------------------------------------------------------------------- \n",
      "# After step 12 :\n",
      "The list of elements:\n",
      "0.25 0.25 0.25 0.25 0.25 0.25 0.25 0.25 0.25 0.25 0.25 0.25 0.25 0.25 0.25 0.25 \n",
      "The length after iteration: 1.0\n",
      "------------------------------------------------------------------- \n",
      "# After step 13 :\n",
      "The list of elements:\n",
      "0.0 0.0 0.0 0.0 0.0 0.0 0.0 0.0 0.0 0.0 0.0 0.0 -0.5 -0.5 -0.5 -0.5 \n",
      "The length after iteration: 1.0\n",
      "------------------------------------------------------------------- \n",
      "# After step 14 :\n",
      "The list of elements:\n",
      "-0.25 -0.25 -0.25 -0.25 -0.25 -0.25 -0.25 -0.25 -0.25 -0.25 -0.25 -0.25 0.25 0.25 0.25 0.25 \n",
      "The length after iteration: 1.0\n",
      "------------------------------------------------------------------- \n",
      "# After step 15 :\n",
      "The list of elements:\n",
      "0.25 0.25 0.25 0.25 0.25 0.25 0.25 0.25 0.25 0.25 0.25 0.25 0.25 0.25 0.25 0.25 \n",
      "The length after iteration: 1.0\n",
      "------------------------------------------------------------------- \n",
      "# After step 16 :\n",
      "The list of elements:\n",
      "0.0 0.0 0.0 0.0 0.0 0.0 0.0 0.0 0.0 0.0 0.0 0.0 -0.5 -0.5 -0.5 -0.5 \n",
      "The length after iteration: 1.0\n",
      "------------------------------------------------------------------- \n",
      "# After step 17 :\n",
      "The list of elements:\n",
      "-0.25 -0.25 -0.25 -0.25 -0.25 -0.25 -0.25 -0.25 -0.25 -0.25 -0.25 -0.25 0.25 0.25 0.25 0.25 \n",
      "The length after iteration: 1.0\n",
      "------------------------------------------------------------------- \n",
      "# After step 18 :\n",
      "The list of elements:\n",
      "0.25 0.25 0.25 0.25 0.25 0.25 0.25 0.25 0.25 0.25 0.25 0.25 0.25 0.25 0.25 0.25 \n",
      "The length after iteration: 1.0\n",
      "------------------------------------------------------------------- \n",
      "# After step 19 :\n",
      "The list of elements:\n",
      "0.0 0.0 0.0 0.0 0.0 0.0 0.0 0.0 0.0 0.0 0.0 0.0 -0.5 -0.5 -0.5 -0.5 \n",
      "The length after iteration: 1.0\n",
      "------------------------------------------------------------------- \n",
      "# After step 20 :\n",
      "The list of elements:\n",
      "-0.25 -0.25 -0.25 -0.25 -0.25 -0.25 -0.25 -0.25 -0.25 -0.25 -0.25 -0.25 0.25 0.25 0.25 0.25 \n",
      "The length after iteration: 1.0\n",
      "------------------------------------------------------------------- \n"
     ]
    }
   ],
   "source": [
    "for step in range(20):\n",
    "    iterations.append(step+1)\n",
    "    \n",
    "    elements = query(elements, marked_elements)\n",
    "    elements = inversion(elements)\n",
    "    \n",
    "    print('# After step', step+1,':')\n",
    "    print('The list of elements:')\n",
    "    print_lst(elements, 3)\n",
    "    print('The length after iteration:', lst_len(elements))\n",
    "    print('------------------------------------------------------------------- ')"
   ]
  },
  {
   "cell_type": "code",
   "execution_count": null,
   "metadata": {},
   "outputs": [],
   "source": []
  }
 ],
 "metadata": {
  "kernelspec": {
   "display_name": "Python 3",
   "language": "python",
   "name": "python3"
  },
  "language_info": {
   "codemirror_mode": {
    "name": "ipython",
    "version": 3
   },
   "file_extension": ".py",
   "mimetype": "text/x-python",
   "name": "python",
   "nbconvert_exporter": "python",
   "pygments_lexer": "ipython3",
   "version": "3.8.3"
  }
 },
 "nbformat": 4,
 "nbformat_minor": 4
}
